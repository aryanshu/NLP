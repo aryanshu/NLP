{
 "cells": [
  {
   "cell_type": "code",
<<<<<<< HEAD
   "execution_count": 1,
=======
   "execution_count": 24,
>>>>>>> 0d2b2a343cec8d0f04528ec405bac3f96c61a60c
   "metadata": {},
   "outputs": [],
   "source": [
    "import pandas as pd\n",
    "import numpy as np\n",
    "from sklearn.feature_extraction.text import CountVectorizer\n",
    "from sklearn.model_selection import train_test_split\n",
    "from sklearn.naive_bayes import MultinomialNB"
   ]
  },
  {
   "cell_type": "code",
<<<<<<< HEAD
   "execution_count": 2,
=======
   "execution_count": 25,
>>>>>>> 0d2b2a343cec8d0f04528ec405bac3f96c61a60c
   "metadata": {},
   "outputs": [
    {
     "data": {
      "text/html": [
       "<div>\n",
       "<style scoped>\n",
       "    .dataframe tbody tr th:only-of-type {\n",
       "        vertical-align: middle;\n",
       "    }\n",
       "\n",
       "    .dataframe tbody tr th {\n",
       "        vertical-align: top;\n",
       "    }\n",
       "\n",
       "    .dataframe thead th {\n",
       "        text-align: right;\n",
       "    }\n",
       "</style>\n",
       "<table border=\"1\" class=\"dataframe\">\n",
       "  <thead>\n",
       "    <tr style=\"text-align: right;\">\n",
       "      <th></th>\n",
       "      <th>category</th>\n",
       "      <th>text</th>\n",
       "    </tr>\n",
       "  </thead>\n",
       "  <tbody>\n",
       "    <tr>\n",
       "      <th>0</th>\n",
       "      <td>tech</td>\n",
       "      <td>tv future in the hands of viewers with home th...</td>\n",
       "    </tr>\n",
       "    <tr>\n",
       "      <th>1</th>\n",
       "      <td>business</td>\n",
       "      <td>worldcom boss  left books alone  former worldc...</td>\n",
       "    </tr>\n",
       "    <tr>\n",
       "      <th>2</th>\n",
       "      <td>sport</td>\n",
       "      <td>tigers wary of farrell  gamble  leicester say ...</td>\n",
       "    </tr>\n",
       "    <tr>\n",
       "      <th>3</th>\n",
       "      <td>sport</td>\n",
       "      <td>yeading face newcastle in fa cup premiership s...</td>\n",
       "    </tr>\n",
       "    <tr>\n",
       "      <th>4</th>\n",
       "      <td>entertainment</td>\n",
       "      <td>ocean s twelve raids box office ocean s twelve...</td>\n",
       "    </tr>\n",
       "  </tbody>\n",
       "</table>\n",
       "</div>"
      ],
      "text/plain": [
       "        category                                               text\n",
       "0           tech  tv future in the hands of viewers with home th...\n",
       "1       business  worldcom boss  left books alone  former worldc...\n",
       "2          sport  tigers wary of farrell  gamble  leicester say ...\n",
       "3          sport  yeading face newcastle in fa cup premiership s...\n",
       "4  entertainment  ocean s twelve raids box office ocean s twelve..."
      ]
     },
<<<<<<< HEAD
     "execution_count": 2,
=======
     "execution_count": 25,
>>>>>>> 0d2b2a343cec8d0f04528ec405bac3f96c61a60c
     "metadata": {},
     "output_type": "execute_result"
    }
   ],
   "source": [
    "df=pd.read_csv(\"bbc-text.csv\")\n",
    "df.head()"
   ]
  },
  {
   "cell_type": "code",
<<<<<<< HEAD
   "execution_count": 3,
=======
   "execution_count": 26,
>>>>>>> 0d2b2a343cec8d0f04528ec405bac3f96c61a60c
   "metadata": {},
   "outputs": [],
   "source": [
    "from sklearn.preprocessing import LabelEncoder\n",
    "le=LabelEncoder()"
   ]
  },
  {
   "cell_type": "code",
<<<<<<< HEAD
   "execution_count": 4,
=======
   "execution_count": 27,
>>>>>>> 0d2b2a343cec8d0f04528ec405bac3f96c61a60c
   "metadata": {},
   "outputs": [
    {
     "name": "stdout",
     "output_type": "stream",
     "text": [
      "<class 'pandas.core.frame.DataFrame'>\n",
      "RangeIndex: 2225 entries, 0 to 2224\n",
      "Data columns (total 2 columns):\n",
      "category    2225 non-null object\n",
      "text        2225 non-null object\n",
      "dtypes: object(2)\n",
      "memory usage: 34.8+ KB\n"
     ]
    }
   ],
   "source": [
    "df.info()"
   ]
  },
  {
   "cell_type": "code",
<<<<<<< HEAD
   "execution_count": 5,
=======
   "execution_count": null,
>>>>>>> 0d2b2a343cec8d0f04528ec405bac3f96c61a60c
   "metadata": {},
   "outputs": [
    {
     "data": {
      "text/html": [
       "<div>\n",
       "<style scoped>\n",
       "    .dataframe tbody tr th:only-of-type {\n",
       "        vertical-align: middle;\n",
       "    }\n",
       "\n",
       "    .dataframe tbody tr th {\n",
       "        vertical-align: top;\n",
       "    }\n",
       "\n",
       "    .dataframe thead th {\n",
       "        text-align: right;\n",
       "    }\n",
       "</style>\n",
       "<table border=\"1\" class=\"dataframe\">\n",
       "  <thead>\n",
       "    <tr style=\"text-align: right;\">\n",
       "      <th></th>\n",
       "      <th>category</th>\n",
       "      <th>text</th>\n",
       "    </tr>\n",
       "  </thead>\n",
       "  <tbody>\n",
       "    <tr>\n",
       "      <th>count</th>\n",
       "      <td>2225</td>\n",
       "      <td>2225</td>\n",
       "    </tr>\n",
       "    <tr>\n",
       "      <th>unique</th>\n",
       "      <td>5</td>\n",
       "      <td>2126</td>\n",
       "    </tr>\n",
       "    <tr>\n",
       "      <th>top</th>\n",
       "      <td>sport</td>\n",
<<<<<<< HEAD
       "      <td>web radio takes spanish rap global spin the ra...</td>\n",
=======
       "      <td>howl helps boost japan s cinemas japan s box o...</td>\n",
>>>>>>> 0d2b2a343cec8d0f04528ec405bac3f96c61a60c
       "    </tr>\n",
       "    <tr>\n",
       "      <th>freq</th>\n",
       "      <td>511</td>\n",
       "      <td>2</td>\n",
       "    </tr>\n",
       "  </tbody>\n",
       "</table>\n",
       "</div>"
      ],
      "text/plain": [
       "       category                                               text\n",
       "count      2225                                               2225\n",
       "unique        5                                               2126\n",
<<<<<<< HEAD
       "top       sport  web radio takes spanish rap global spin the ra...\n",
       "freq        511                                                  2"
      ]
     },
     "execution_count": 5,
=======
       "top       sport  howl helps boost japan s cinemas japan s box o...\n",
       "freq        511                                                  2"
      ]
     },
     "execution_count": 28,
>>>>>>> 0d2b2a343cec8d0f04528ec405bac3f96c61a60c
     "metadata": {},
     "output_type": "execute_result"
    }
   ],
   "source": [
    "df.describe()"
   ]
  },
  {
   "cell_type": "code",
<<<<<<< HEAD
   "execution_count": 6,
=======
   "execution_count": null,
>>>>>>> 0d2b2a343cec8d0f04528ec405bac3f96c61a60c
   "metadata": {},
   "outputs": [
    {
     "data": {
      "text/html": [
       "<div>\n",
       "<style scoped>\n",
       "    .dataframe tbody tr th:only-of-type {\n",
       "        vertical-align: middle;\n",
       "    }\n",
       "\n",
       "    .dataframe tbody tr th {\n",
       "        vertical-align: top;\n",
       "    }\n",
       "\n",
       "    .dataframe thead th {\n",
       "        text-align: right;\n",
       "    }\n",
       "</style>\n",
       "<table border=\"1\" class=\"dataframe\">\n",
       "  <thead>\n",
       "    <tr style=\"text-align: right;\">\n",
       "      <th></th>\n",
       "      <th>category</th>\n",
       "      <th>text</th>\n",
       "    </tr>\n",
       "  </thead>\n",
       "  <tbody>\n",
       "    <tr>\n",
       "      <th>0</th>\n",
       "      <td>4</td>\n",
       "      <td>tv future in the hands of viewers with home th...</td>\n",
       "    </tr>\n",
       "    <tr>\n",
       "      <th>1</th>\n",
       "      <td>0</td>\n",
       "      <td>worldcom boss  left books alone  former worldc...</td>\n",
       "    </tr>\n",
       "    <tr>\n",
       "      <th>2</th>\n",
       "      <td>3</td>\n",
       "      <td>tigers wary of farrell  gamble  leicester say ...</td>\n",
       "    </tr>\n",
       "    <tr>\n",
       "      <th>3</th>\n",
       "      <td>3</td>\n",
       "      <td>yeading face newcastle in fa cup premiership s...</td>\n",
       "    </tr>\n",
       "    <tr>\n",
       "      <th>4</th>\n",
       "      <td>1</td>\n",
       "      <td>ocean s twelve raids box office ocean s twelve...</td>\n",
       "    </tr>\n",
       "  </tbody>\n",
       "</table>\n",
       "</div>"
      ],
      "text/plain": [
       "   category                                               text\n",
       "0         4  tv future in the hands of viewers with home th...\n",
       "1         0  worldcom boss  left books alone  former worldc...\n",
       "2         3  tigers wary of farrell  gamble  leicester say ...\n",
       "3         3  yeading face newcastle in fa cup premiership s...\n",
       "4         1  ocean s twelve raids box office ocean s twelve..."
      ]
     },
<<<<<<< HEAD
     "execution_count": 6,
=======
     "execution_count": 29,
>>>>>>> 0d2b2a343cec8d0f04528ec405bac3f96c61a60c
     "metadata": {},
     "output_type": "execute_result"
    }
   ],
   "source": [
    "df.category=le.fit_transform(df.category)\n",
    "df.head()"
   ]
  },
  {
   "cell_type": "code",
<<<<<<< HEAD
   "execution_count": 7,
=======
   "execution_count": null,
>>>>>>> 0d2b2a343cec8d0f04528ec405bac3f96c61a60c
   "metadata": {},
   "outputs": [],
   "source": [
    "cv=CountVectorizer()\n"
   ]
  },
  {
   "cell_type": "code",
<<<<<<< HEAD
   "execution_count": 8,
=======
   "execution_count": null,
>>>>>>> 0d2b2a343cec8d0f04528ec405bac3f96c61a60c
   "metadata": {},
   "outputs": [],
   "source": [
    "x_train=df.text\n",
    "y_train=df.category"
   ]
  },
  {
   "cell_type": "code",
<<<<<<< HEAD
   "execution_count": 9,
=======
   "execution_count": null,
>>>>>>> 0d2b2a343cec8d0f04528ec405bac3f96c61a60c
   "metadata": {},
   "outputs": [],
   "source": [
    "x_train=x_train.tolist()"
   ]
  },
  {
   "cell_type": "code",
<<<<<<< HEAD
   "execution_count": 10,
   "metadata": {},
   "outputs": [
    {
     "data": {
      "text/plain": [
       "{0, 1, 2, 3, 4}"
      ]
     },
     "execution_count": 10,
     "metadata": {},
     "output_type": "execute_result"
    }
   ],
=======
   "execution_count": null,
   "metadata": {},
   "outputs": [],
>>>>>>> 0d2b2a343cec8d0f04528ec405bac3f96c61a60c
   "source": [
    "y_train=y_train.astype(int)\n",
    "set(y_train)"
   ]
  },
  {
   "cell_type": "code",
<<<<<<< HEAD
   "execution_count": 11,
=======
   "execution_count": null,
>>>>>>> 0d2b2a343cec8d0f04528ec405bac3f96c61a60c
   "metadata": {},
   "outputs": [],
   "source": [
    "x_train, x_test, y_train, y_test = train_test_split(x_train, y_train, test_size=0.2)"
   ]
  },
  {
   "cell_type": "code",
<<<<<<< HEAD
   "execution_count": 12,
=======
   "execution_count": null,
>>>>>>> 0d2b2a343cec8d0f04528ec405bac3f96c61a60c
   "metadata": {},
   "outputs": [],
   "source": [
    "x_train=cv.fit_transform(list(x_train))\n",
    "x_train=x_train.toarray()\n"
   ]
  },
  {
   "cell_type": "code",
<<<<<<< HEAD
   "execution_count": 13,
   "metadata": {},
   "outputs": [
    {
     "data": {
      "text/plain": [
       "array([[0, 2, 0, ..., 0, 0, 0],\n",
       "       [0, 3, 0, ..., 0, 0, 0],\n",
       "       [0, 7, 0, ..., 0, 0, 0],\n",
       "       ...,\n",
       "       [0, 0, 0, ..., 0, 0, 0],\n",
       "       [0, 0, 0, ..., 0, 0, 0],\n",
       "       [0, 0, 0, ..., 0, 0, 0]], dtype=int64)"
      ]
     },
     "execution_count": 13,
     "metadata": {},
     "output_type": "execute_result"
    }
   ],
=======
   "execution_count": null,
   "metadata": {},
   "outputs": [],
>>>>>>> 0d2b2a343cec8d0f04528ec405bac3f96c61a60c
   "source": [
    "x_train"
   ]
  },
  {
   "cell_type": "code",
<<<<<<< HEAD
   "execution_count": 14,
   "metadata": {},
   "outputs": [
    {
     "data": {
      "text/plain": [
       "array([0, 2, 0, ..., 0, 0, 0], dtype=int64)"
      ]
     },
     "execution_count": 14,
     "metadata": {},
     "output_type": "execute_result"
    }
   ],
=======
   "execution_count": null,
   "metadata": {},
   "outputs": [],
>>>>>>> 0d2b2a343cec8d0f04528ec405bac3f96c61a60c
   "source": [
    "x_train[0]"
   ]
  },
  {
   "cell_type": "code",
<<<<<<< HEAD
   "execution_count": 15,
   "metadata": {},
   "outputs": [
    {
     "data": {
      "text/plain": [
       "[array(['000', '100', '12', '14', '16', '17', '20', '300', '38', '3g',\n",
       "        '3gsm', '5g', 'able', 'access', 'added', 'adding', 'all',\n",
       "        'alongside', 'already', 'also', 'an', 'and', 'angled', 'announced',\n",
       "        'april', 'are', 'as', 'at', 'available', 'be', 'bear', 'been',\n",
       "        'begins', 'bets', 'blackberry', 'brian', 'brighton', 'built',\n",
       "        'business', 'by', 'calls', 'cameras', 'can', 'cannes', 'certain',\n",
       "        'check', 'chief', 'clamshell', 'commuters', 'companies', 'company',\n",
       "        'computer', 'conference', 'connected', 'connection', 'constant',\n",
       "        'conventional', 'data', 'demand', 'design', 'developed', 'device',\n",
       "        'devices', 'did', 'digital', 'director', 'display', 'double',\n",
       "        'early', 'end', 'entire', 'europe', 'european', 'executive',\n",
       "        'existing', 'experts', 'fast', 'faster', 'fastest', 'february',\n",
       "        'fee', 'fi', 'firms', 'five', 'flat', 'follow', 'for', 'france',\n",
       "        'free', 'from', 'fruit', 'full', 'future', 'gathered', 'general',\n",
       "        'generation', 'globally', 'gner', 'growing', 'has', 'he', 'high',\n",
       "        'hotspots', 'iii', 'in', 'increasing', 'industry', 'installing',\n",
       "        'introduce', 'is', 'it', 'its', 'itself', 'iv', 'journey',\n",
       "        'keyboard', 'laptops', 'latest', 'launched', 'like', 'london',\n",
       "        'mail', 'maintaining', 'managing', 'many', 'march', 'mcbride',\n",
       "        'mda', 'mdas', 'meaning', 'microsoft', 'mini', 'mobile', 'models',\n",
       "        'month', 'more', 'motorola', 'move', 'mpx', 'mr', 'nearly', 'need',\n",
       "        'needing', 'net', 'network', 'nomad', 'not', 'number', 'obermann',\n",
       "        'of', 'offer', 'offered', 'office', 'on', 'one', 'opportunities',\n",
       "        'or', 'other', 'out', 'outside', 'people', 'phone', 'places',\n",
       "        'pocket', 'points', 'press', 'provide', 'push', 'qwerty', 'range',\n",
       "        'reflecting', 'reflects', 'released', 'rene', 'response', 'route',\n",
       "        'running', 'runs', 'said', 'securely', 'see', 'seeing', 'selects',\n",
       "        'service', 'services', 'session', 'set', 'shaped', 'show',\n",
       "        'significant', 'similar', 'small', 'smartphone', 'so', 'sold',\n",
       "        'something', 'southern', 'speed', 'spend', 'still', 'such',\n",
       "        'summer', 'swivelled', 'take', 'tariff', 'technology', 'than',\n",
       "        'that', 'the', 'their', 'they', 'third', 'this', 'thousands',\n",
       "        'time', 'to', 'told', 'too', 'tracks', 'trade', 'train', 'trains',\n",
       "        'transfer', 'travelling', 'trend', 'trial', 'two', 'uk', 'unlike',\n",
       "        'up', 'upgrade', 'used', 'user', 'users', 'using', 'was', 'we',\n",
       "        'what', 'when', 'where', 'which', 'who', 'wi', 'will', 'wimax',\n",
       "        'wireless', 'with', 'workers', 'would', 'year', 'yet'],\n",
       "       dtype='<U22')]"
      ]
     },
     "execution_count": 15,
     "metadata": {},
     "output_type": "execute_result"
    }
   ],
=======
   "execution_count": null,
   "metadata": {},
   "outputs": [],
>>>>>>> 0d2b2a343cec8d0f04528ec405bac3f96c61a60c
   "source": [
    "cv.inverse_transform(x_train[0])"
   ]
  },
  {
   "cell_type": "code",
<<<<<<< HEAD
   "execution_count": 16,
=======
   "execution_count": null,
>>>>>>> 0d2b2a343cec8d0f04528ec405bac3f96c61a60c
   "metadata": {},
   "outputs": [],
   "source": [
    "x_test=cv.transform(x_test)"
   ]
  },
  {
   "cell_type": "code",
<<<<<<< HEAD
   "execution_count": 17,
=======
   "execution_count": null,
>>>>>>> 0d2b2a343cec8d0f04528ec405bac3f96c61a60c
   "metadata": {},
   "outputs": [],
   "source": [
    "model=MultinomialNB()"
   ]
  },
  {
   "cell_type": "code",
<<<<<<< HEAD
   "execution_count": 18,
   "metadata": {},
   "outputs": [
    {
     "data": {
      "text/plain": [
       "MultinomialNB(alpha=1.0, class_prior=None, fit_prior=True)"
      ]
     },
     "execution_count": 18,
     "metadata": {},
     "output_type": "execute_result"
    }
   ],
=======
   "execution_count": null,
   "metadata": {},
   "outputs": [],
>>>>>>> 0d2b2a343cec8d0f04528ec405bac3f96c61a60c
   "source": [
    "model.fit(x_train,y_train)"
   ]
  },
  {
   "cell_type": "code",
<<<<<<< HEAD
   "execution_count": 19,
=======
   "execution_count": null,
>>>>>>> 0d2b2a343cec8d0f04528ec405bac3f96c61a60c
   "metadata": {},
   "outputs": [],
   "source": [
    "ypred=model.predict(x_test)"
   ]
  },
  {
   "cell_type": "code",
<<<<<<< HEAD
   "execution_count": 20,
   "metadata": {},
   "outputs": [
    {
     "data": {
      "text/plain": [
       "array([4, 3, 4, 4, 1, 0, 3, 0, 4, 1, 1, 0, 4, 3, 2, 3, 4, 1, 0, 4, 3, 0,\n",
       "       2, 3, 2, 4, 2, 4, 3, 1, 4, 4, 3, 4, 3, 1, 4, 2, 3, 3, 3, 4, 0, 2,\n",
       "       3, 2, 1, 3, 3, 0, 1, 3, 3, 0, 4, 4, 3, 3, 3, 4, 0, 3, 0, 2, 3, 3,\n",
       "       0, 4, 2, 3, 0, 0, 0, 3, 4, 3, 3, 0, 1, 3, 2, 1, 0, 0, 1, 3, 0, 3,\n",
       "       0, 0, 4, 3, 0, 1, 2, 0, 4, 3, 0, 2, 0, 3, 3, 3, 2, 0, 1, 3, 4, 0,\n",
       "       0, 3, 3, 3, 4, 3, 4, 0, 0, 3, 4, 2, 4, 1, 2, 4, 0, 3, 1, 1, 4, 1,\n",
       "       3, 2, 2, 4, 2, 2, 0, 3, 0, 2, 1, 1, 1, 2, 0, 0, 0, 3, 2, 4, 0, 3,\n",
       "       3, 1, 4, 2, 1, 4, 3, 3, 4, 0, 0, 4, 2, 2, 4, 4, 3, 0, 1, 1, 4, 3,\n",
       "       3, 0, 0, 0, 1, 4, 3, 4, 3, 2, 1, 3, 4, 4, 0, 0, 0, 1, 1, 0, 2, 0,\n",
       "       2, 3, 0, 2, 1, 1, 4, 0, 0, 0, 3, 2, 0, 4, 0, 1, 3, 2, 3, 1, 2, 3,\n",
       "       2, 2, 4, 3, 0, 1, 4, 2, 3, 3, 2, 0, 2, 0, 2, 2, 3, 4, 1, 0, 2, 3,\n",
       "       4, 1, 2, 4, 4, 3, 3, 0, 1, 2, 4, 1, 2, 1, 2, 3, 4, 1, 0, 0, 0, 3,\n",
       "       3, 3, 0, 0, 0, 1, 0, 2, 3, 0, 4, 0, 1, 4, 4, 2, 2, 3, 2, 4, 0, 4,\n",
       "       1, 0, 1, 0, 2, 0, 1, 0, 1, 3, 3, 1, 2, 0, 1, 3, 3, 3, 3, 0, 4, 0,\n",
       "       0, 0, 3, 3, 3, 3, 2, 0, 3, 2, 0, 3, 3, 2, 0, 3, 4, 4, 0, 1, 2, 4,\n",
       "       2, 1, 3, 2, 1, 2, 3, 0, 2, 0, 1, 2, 1, 2, 1, 3, 2, 4, 3, 3, 0, 0,\n",
       "       0, 1, 3, 2, 0, 0, 4, 0, 3, 3, 4, 2, 4, 3, 0, 0, 0, 1, 3, 1, 0, 2,\n",
       "       0, 4, 4, 4, 3, 3, 2, 4, 3, 1, 2, 2, 3, 4, 3, 1, 3, 4, 0, 2, 3, 4,\n",
       "       0, 0, 0, 0, 2, 2, 4, 4, 0, 1, 2, 1, 0, 1, 0, 0, 2, 2, 1, 2, 1, 4,\n",
       "       2, 0, 1, 0, 3, 0, 3, 4, 1, 2, 2, 4, 4, 0, 4, 3, 3, 4, 1, 0, 3, 4,\n",
       "       4, 4, 2, 1, 3])"
      ]
     },
     "execution_count": 20,
     "metadata": {},
     "output_type": "execute_result"
    }
   ],
=======
   "execution_count": null,
   "metadata": {},
   "outputs": [],
>>>>>>> 0d2b2a343cec8d0f04528ec405bac3f96c61a60c
   "source": [
    "ypred"
   ]
  },
  {
   "cell_type": "code",
<<<<<<< HEAD
   "execution_count": 21,
   "metadata": {},
   "outputs": [
    {
     "data": {
      "text/plain": [
       "0.9707865168539326"
      ]
     },
     "execution_count": 21,
     "metadata": {},
     "output_type": "execute_result"
    }
   ],
=======
   "execution_count": null,
   "metadata": {},
   "outputs": [],
>>>>>>> 0d2b2a343cec8d0f04528ec405bac3f96c61a60c
   "source": [
    "from sklearn.metrics import confusion_matrix, accuracy_score\n",
    "acc=accuracy_score(y_test,ypred)\n",
    "acc"
   ]
  },
  {
   "cell_type": "code",
   "execution_count": null,
   "metadata": {},
   "outputs": [],
   "source": []
  }
 ],
 "metadata": {
  "kernelspec": {
   "display_name": "Python 3",
   "language": "python",
   "name": "python3"
  },
  "language_info": {
   "codemirror_mode": {
    "name": "ipython",
    "version": 3
   },
   "file_extension": ".py",
   "mimetype": "text/x-python",
   "name": "python",
   "nbconvert_exporter": "python",
   "pygments_lexer": "ipython3",
   "version": "3.7.2"
  }
 },
 "nbformat": 4,
 "nbformat_minor": 2
}
