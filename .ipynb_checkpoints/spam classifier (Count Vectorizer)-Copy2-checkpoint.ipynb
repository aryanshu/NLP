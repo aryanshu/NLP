{
 "cells": [
  {
   "cell_type": "code",
   "execution_count": 1,
   "metadata": {},
   "outputs": [],
   "source": [
    "import pandas as pd\n",
    "import numpy as np\n",
    "from sklearn.feature_extraction.text import CountVectorizer\n",
    "from sklearn.model_selection import train_test_split\n",
    "from sklearn.naive_bayes import MultinomialNB"
   ]
  },
  {
   "cell_type": "code",
   "execution_count": 12,
   "metadata": {},
   "outputs": [
    {
     "data": {
      "text/html": [
       "<div>\n",
       "<style scoped>\n",
       "    .dataframe tbody tr th:only-of-type {\n",
       "        vertical-align: middle;\n",
       "    }\n",
       "\n",
       "    .dataframe tbody tr th {\n",
       "        vertical-align: top;\n",
       "    }\n",
       "\n",
       "    .dataframe thead th {\n",
       "        text-align: right;\n",
       "    }\n",
       "</style>\n",
       "<table border=\"1\" class=\"dataframe\">\n",
       "  <thead>\n",
       "    <tr style=\"text-align: right;\">\n",
       "      <th></th>\n",
       "      <th>category</th>\n",
       "      <th>text</th>\n",
       "    </tr>\n",
       "  </thead>\n",
       "  <tbody>\n",
       "    <tr>\n",
       "      <th>0</th>\n",
       "      <td>tech</td>\n",
       "      <td>tv future in the hands of viewers with home th...</td>\n",
       "    </tr>\n",
       "    <tr>\n",
       "      <th>1</th>\n",
       "      <td>business</td>\n",
       "      <td>worldcom boss  left books alone  former worldc...</td>\n",
       "    </tr>\n",
       "    <tr>\n",
       "      <th>2</th>\n",
       "      <td>sport</td>\n",
       "      <td>tigers wary of farrell  gamble  leicester say ...</td>\n",
       "    </tr>\n",
       "    <tr>\n",
       "      <th>3</th>\n",
       "      <td>sport</td>\n",
       "      <td>yeading face newcastle in fa cup premiership s...</td>\n",
       "    </tr>\n",
       "    <tr>\n",
       "      <th>4</th>\n",
       "      <td>entertainment</td>\n",
       "      <td>ocean s twelve raids box office ocean s twelve...</td>\n",
       "    </tr>\n",
       "  </tbody>\n",
       "</table>\n",
       "</div>"
      ],
      "text/plain": [
       "        category                                               text\n",
       "0           tech  tv future in the hands of viewers with home th...\n",
       "1       business  worldcom boss  left books alone  former worldc...\n",
       "2          sport  tigers wary of farrell  gamble  leicester say ...\n",
       "3          sport  yeading face newcastle in fa cup premiership s...\n",
       "4  entertainment  ocean s twelve raids box office ocean s twelve..."
      ]
     },
     "execution_count": 12,
     "metadata": {},
     "output_type": "execute_result"
    }
   ],
   "source": [
    "df=pd.read_csv(\"bbc-text.csv\")\n",
    "df.head()"
   ]
  },
  {
   "cell_type": "code",
   "execution_count": 13,
   "metadata": {},
   "outputs": [],
   "source": [
    "from sklearn.preprocessing import LabelEncoder\n",
    "le=LabelEncoder()"
   ]
  },
  {
   "cell_type": "code",
   "execution_count": 14,
   "metadata": {},
   "outputs": [
    {
     "name": "stdout",
     "output_type": "stream",
     "text": [
      "<class 'pandas.core.frame.DataFrame'>\n",
      "RangeIndex: 2225 entries, 0 to 2224\n",
      "Data columns (total 2 columns):\n",
      "category    2225 non-null object\n",
      "text        2225 non-null object\n",
      "dtypes: object(2)\n",
      "memory usage: 34.8+ KB\n"
     ]
    }
   ],
   "source": [
    "df.info()"
   ]
  },
  {
   "cell_type": "code",
   "execution_count": 15,
   "metadata": {},
   "outputs": [
    {
     "data": {
      "text/html": [
       "<div>\n",
       "<style scoped>\n",
       "    .dataframe tbody tr th:only-of-type {\n",
       "        vertical-align: middle;\n",
       "    }\n",
       "\n",
       "    .dataframe tbody tr th {\n",
       "        vertical-align: top;\n",
       "    }\n",
       "\n",
       "    .dataframe thead th {\n",
       "        text-align: right;\n",
       "    }\n",
       "</style>\n",
       "<table border=\"1\" class=\"dataframe\">\n",
       "  <thead>\n",
       "    <tr style=\"text-align: right;\">\n",
       "      <th></th>\n",
       "      <th>category</th>\n",
       "      <th>text</th>\n",
       "    </tr>\n",
       "  </thead>\n",
       "  <tbody>\n",
       "    <tr>\n",
       "      <th>count</th>\n",
       "      <td>2225</td>\n",
       "      <td>2225</td>\n",
       "    </tr>\n",
       "    <tr>\n",
       "      <th>unique</th>\n",
       "      <td>5</td>\n",
       "      <td>2126</td>\n",
       "    </tr>\n",
       "    <tr>\n",
       "      <th>top</th>\n",
       "      <td>sport</td>\n",
       "      <td>apple unveils low-cost  mac mini  apple has un...</td>\n",
       "    </tr>\n",
       "    <tr>\n",
       "      <th>freq</th>\n",
       "      <td>511</td>\n",
       "      <td>2</td>\n",
       "    </tr>\n",
       "  </tbody>\n",
       "</table>\n",
       "</div>"
      ],
      "text/plain": [
       "       category                                               text\n",
       "count      2225                                               2225\n",
       "unique        5                                               2126\n",
       "top       sport  apple unveils low-cost  mac mini  apple has un...\n",
       "freq        511                                                  2"
      ]
     },
     "execution_count": 15,
     "metadata": {},
     "output_type": "execute_result"
    }
   ],
   "source": [
    "df.describe()"
   ]
  },
  {
   "cell_type": "code",
   "execution_count": 16,
   "metadata": {},
   "outputs": [
    {
     "data": {
      "text/html": [
       "<div>\n",
       "<style scoped>\n",
       "    .dataframe tbody tr th:only-of-type {\n",
       "        vertical-align: middle;\n",
       "    }\n",
       "\n",
       "    .dataframe tbody tr th {\n",
       "        vertical-align: top;\n",
       "    }\n",
       "\n",
       "    .dataframe thead th {\n",
       "        text-align: right;\n",
       "    }\n",
       "</style>\n",
       "<table border=\"1\" class=\"dataframe\">\n",
       "  <thead>\n",
       "    <tr style=\"text-align: right;\">\n",
       "      <th></th>\n",
       "      <th>category</th>\n",
       "      <th>text</th>\n",
       "    </tr>\n",
       "  </thead>\n",
       "  <tbody>\n",
       "    <tr>\n",
       "      <th>0</th>\n",
       "      <td>4</td>\n",
       "      <td>tv future in the hands of viewers with home th...</td>\n",
       "    </tr>\n",
       "    <tr>\n",
       "      <th>1</th>\n",
       "      <td>0</td>\n",
       "      <td>worldcom boss  left books alone  former worldc...</td>\n",
       "    </tr>\n",
       "    <tr>\n",
       "      <th>2</th>\n",
       "      <td>3</td>\n",
       "      <td>tigers wary of farrell  gamble  leicester say ...</td>\n",
       "    </tr>\n",
       "    <tr>\n",
       "      <th>3</th>\n",
       "      <td>3</td>\n",
       "      <td>yeading face newcastle in fa cup premiership s...</td>\n",
       "    </tr>\n",
       "    <tr>\n",
       "      <th>4</th>\n",
       "      <td>1</td>\n",
       "      <td>ocean s twelve raids box office ocean s twelve...</td>\n",
       "    </tr>\n",
       "  </tbody>\n",
       "</table>\n",
       "</div>"
      ],
      "text/plain": [
       "   category                                               text\n",
       "0         4  tv future in the hands of viewers with home th...\n",
       "1         0  worldcom boss  left books alone  former worldc...\n",
       "2         3  tigers wary of farrell  gamble  leicester say ...\n",
       "3         3  yeading face newcastle in fa cup premiership s...\n",
       "4         1  ocean s twelve raids box office ocean s twelve..."
      ]
     },
     "execution_count": 16,
     "metadata": {},
     "output_type": "execute_result"
    }
   ],
   "source": [
    "df.category=le.fit_transform(df.category)\n",
    "df.head()"
   ]
  },
  {
   "cell_type": "code",
   "execution_count": 17,
   "metadata": {},
   "outputs": [],
   "source": [
    "cv=CountVectorizer()\n"
   ]
  },
  {
   "cell_type": "code",
   "execution_count": 20,
   "metadata": {},
   "outputs": [],
   "source": [
    "x_train=df.text\n",
    "y_train=df.category"
   ]
  },
  {
   "cell_type": "code",
   "execution_count": 21,
   "metadata": {},
   "outputs": [],
   "source": [
    "x_train=x_train.tolist()"
   ]
  },
  {
   "cell_type": "code",
   "execution_count": 22,
   "metadata": {},
   "outputs": [
    {
     "data": {
      "text/plain": [
       "0    4\n",
       "1    0\n",
       "2    3\n",
       "3    3\n",
       "4    1\n",
       "Name: category, dtype: int32"
      ]
     },
     "execution_count": 22,
     "metadata": {},
     "output_type": "execute_result"
    }
   ],
   "source": [
    "y_train=y_train.astype(int)\n",
    "y_train.head()"
   ]
  },
  {
   "cell_type": "code",
   "execution_count": 23,
   "metadata": {},
   "outputs": [],
   "source": [
    "x_train, x_test, y_train, y_test = train_test_split(x_train, y_train, test_size=0.2)"
   ]
  },
  {
   "cell_type": "code",
   "execution_count": 24,
   "metadata": {},
   "outputs": [],
   "source": [
    "x_train=cv.fit_transform(list(x_train))\n",
    "x_train=x_train.toarray()\n"
   ]
  },
  {
   "cell_type": "code",
   "execution_count": 25,
   "metadata": {},
   "outputs": [
    {
     "data": {
      "text/plain": [
       "array([[0, 0, 0, ..., 0, 0, 0],\n",
       "       [0, 0, 0, ..., 0, 0, 0],\n",
       "       [0, 0, 0, ..., 0, 0, 0],\n",
       "       ...,\n",
       "       [0, 3, 0, ..., 0, 0, 0],\n",
       "       [0, 0, 0, ..., 0, 0, 0],\n",
       "       [0, 1, 0, ..., 0, 0, 0]], dtype=int64)"
      ]
     },
     "execution_count": 25,
     "metadata": {},
     "output_type": "execute_result"
    }
   ],
   "source": [
    "x_train"
   ]
  },
  {
   "cell_type": "code",
   "execution_count": 27,
   "metadata": {},
   "outputs": [
    {
     "data": {
      "text/plain": [
       "array([0, 0, 0, ..., 0, 0, 0], dtype=int64)"
      ]
     },
     "execution_count": 27,
     "metadata": {},
     "output_type": "execute_result"
    }
   ],
   "source": [
    "x_train[0]"
   ]
  },
  {
   "cell_type": "code",
   "execution_count": 28,
   "metadata": {},
   "outputs": [
    {
     "data": {
      "text/plain": [
       "[array(['100', 'about', 'admitted', 'after', 'again', 'agree', 'agreement',\n",
       "        'all', 'an', 'and', 'angry', 'any', 'are', 'as', 'at', 'atp',\n",
       "        'australian', 'available', 'ban', 'bars', 'be', 'been', 'before',\n",
       "        'beneficial', 'body', 'british', 'but', 'can', 'chance', 'changes',\n",
       "        'comes', 'company', 'component', 'conceded', 'contaminated',\n",
       "        'contamination', 'criticised', 'david', 'deal', 'december', 'didn',\n",
       "        'discuss', 'distribution', 'do', 'doping', 'drinks', 'drop',\n",
       "        'education', 'escaped', 'event', 'far', 'federer', 'first', 'for',\n",
       "        'free', 'get', 'glaxosmithkline', 'going', 'gone', 'good', 'got',\n",
       "        'governing', 'greg', 'gsk', 'guarantee', 'had', 'happen', 'has',\n",
       "        'have', 'haven', 'having', 'he', 'higdon', 'hope', 'hopefully',\n",
       "        'hottest', 'how', 'imminent', 'in', 'is', 'it', 'just', 'last',\n",
       "        'later', 'lot', 'loved', 'make', 'meeting', 'men', 'months',\n",
       "        'more', 'never', 'new', 'not', 'now', 'number', 'nutritional',\n",
       "        'of', 'on', 'open', 'order', 'out', 'over', 'part', 'period',\n",
       "        'persuaded', 'pharmaceutical', 'players', 'positive', 'possible',\n",
       "        'president', 'products', 'provide', 'qatar', 'reality', 'receive',\n",
       "        'releasing', 'respond', 'response', 'result', 'rigorous', 'roger',\n",
       "        'rusedski', 'said', 'saturday', 'season', 'so', 'some', 'soon',\n",
       "        'spread', 'struck', 'stuff', 'supplements', 'sure', 'take',\n",
       "        'takes', 'talk', 'tennis', 'test', 'testing', 'that', 'the',\n",
       "        'them', 'there', 'these', 'they', 'thing', 'things', 'think',\n",
       "        'this', 'though', 'through', 'time', 'to', 'tour', 'tribunal',\n",
       "        'tried', 'two', 'understanding', 'use', 'vice', 'was', 'we',\n",
       "        'wednesday', 'weeks', 'weren', 'when', 'who', 'wide', 'will',\n",
       "        'with', 'without', 'won', 'work', 'would', 'year', 'yet', 'you'],\n",
       "       dtype='<U22')]"
      ]
     },
     "execution_count": 28,
     "metadata": {},
     "output_type": "execute_result"
    }
   ],
   "source": [
    "cv.inverse_transform(x_train[0])"
   ]
  },
  {
   "cell_type": "code",
   "execution_count": 29,
   "metadata": {},
   "outputs": [],
   "source": [
    "x_test=cv.transform(x_test)"
   ]
  },
  {
   "cell_type": "code",
   "execution_count": 30,
   "metadata": {},
   "outputs": [],
   "source": [
    "model=MultinomialNB()"
   ]
  },
  {
   "cell_type": "code",
   "execution_count": 31,
   "metadata": {},
   "outputs": [
    {
     "data": {
      "text/plain": [
       "MultinomialNB(alpha=1.0, class_prior=None, fit_prior=True)"
      ]
     },
     "execution_count": 31,
     "metadata": {},
     "output_type": "execute_result"
    }
   ],
   "source": [
    "model.fit(x_train,y_train)"
   ]
  },
  {
   "cell_type": "code",
   "execution_count": 32,
   "metadata": {},
   "outputs": [],
   "source": [
    "ypred=model.predict(x_test)"
   ]
  },
  {
   "cell_type": "code",
   "execution_count": 33,
   "metadata": {},
   "outputs": [
    {
     "data": {
      "text/plain": [
       "array([1, 0, 1, 2, 4, 2, 1, 4, 0, 1, 0, 4, 3, 0, 1, 0, 1, 3, 4, 3, 3, 1,\n",
       "       1, 1, 3, 4, 4, 0, 0, 2, 4, 4, 2, 4, 3, 1, 1, 4, 4, 0, 4, 3, 2, 0,\n",
       "       0, 0, 0, 1, 3, 4, 2, 4, 3, 2, 1, 2, 0, 3, 1, 2, 3, 0, 1, 4, 0, 3,\n",
       "       2, 3, 2, 0, 1, 3, 3, 3, 2, 1, 0, 2, 1, 0, 1, 2, 2, 1, 1, 4, 4, 0,\n",
       "       4, 1, 2, 3, 4, 1, 3, 3, 0, 0, 4, 2, 0, 2, 0, 0, 4, 4, 2, 2, 4, 0,\n",
       "       1, 3, 2, 0, 4, 0, 3, 1, 2, 3, 0, 2, 3, 1, 1, 2, 3, 3, 0, 2, 3, 1,\n",
       "       3, 4, 3, 2, 2, 3, 0, 0, 1, 4, 0, 1, 4, 0, 3, 2, 3, 4, 1, 4, 3, 0,\n",
       "       0, 3, 1, 4, 1, 3, 3, 1, 0, 3, 2, 0, 0, 0, 3, 3, 3, 4, 2, 2, 2, 1,\n",
       "       3, 0, 0, 0, 3, 1, 1, 4, 4, 2, 1, 1, 1, 1, 4, 4, 4, 3, 3, 4, 0, 1,\n",
       "       1, 0, 3, 0, 0, 3, 0, 2, 2, 2, 1, 4, 1, 2, 2, 4, 0, 2, 2, 4, 1, 0,\n",
       "       2, 3, 2, 0, 4, 0, 3, 1, 0, 4, 2, 2, 3, 3, 0, 4, 3, 0, 2, 3, 4, 0,\n",
       "       3, 3, 0, 1, 1, 3, 0, 0, 0, 3, 0, 0, 1, 0, 1, 4, 1, 2, 1, 0, 0, 0,\n",
       "       3, 0, 4, 0, 0, 4, 2, 0, 3, 3, 3, 3, 1, 3, 3, 2, 1, 4, 2, 1, 2, 4,\n",
       "       1, 3, 3, 2, 3, 2, 3, 2, 2, 0, 3, 2, 1, 2, 2, 2, 4, 2, 4, 0, 4, 3,\n",
       "       1, 3, 3, 2, 3, 3, 0, 1, 0, 4, 4, 1, 4, 3, 4, 3, 0, 4, 2, 0, 1, 1,\n",
       "       0, 1, 3, 1, 3, 1, 2, 3, 3, 1, 4, 2, 4, 4, 1, 1, 0, 2, 0, 2, 3, 0,\n",
       "       3, 4, 3, 3, 0, 2, 4, 2, 0, 2, 2, 0, 0, 0, 0, 1, 3, 2, 0, 3, 4, 4,\n",
       "       2, 0, 2, 3, 3, 3, 2, 0, 2, 4, 1, 0, 4, 0, 2, 3, 4, 0, 2, 4, 3, 3,\n",
       "       3, 2, 1, 3, 4, 0, 1, 3, 0, 0, 0, 3, 3, 0, 0, 3, 1, 2, 1, 0, 2, 4,\n",
       "       3, 1, 4, 0, 0, 0, 4, 4, 2, 1, 0, 1, 1, 3, 0, 2, 4, 2, 2, 4, 2, 4,\n",
       "       4, 1, 4, 2, 2])"
      ]
     },
     "execution_count": 33,
     "metadata": {},
     "output_type": "execute_result"
    }
   ],
   "source": [
    "ypred"
   ]
  },
  {
   "cell_type": "code",
   "execution_count": 43,
   "metadata": {},
   "outputs": [],
   "source": [
    "ypred2=ypred-y_test\n",
    "count=0\n",
    "for i in range(ypred.size):\n",
    "    if ypred[i]==0:\n",
    "        0\n",
    "    else:\n",
    "        count=count+1"
   ]
  },
  {
   "cell_type": "code",
   "execution_count": 45,
   "metadata": {},
   "outputs": [
    {
     "data": {
      "text/plain": [
       "0.7685393258426966"
      ]
     },
     "execution_count": 45,
     "metadata": {},
     "output_type": "execute_result"
    }
   ],
   "source": [
    "accuracy=count/len(ypred)\n",
    "accuracy"
   ]
  },
  {
   "cell_type": "code",
   "execution_count": null,
   "metadata": {},
   "outputs": [],
   "source": []
  }
 ],
 "metadata": {
  "kernelspec": {
   "display_name": "Python 3",
   "language": "python",
   "name": "python3"
  },
  "language_info": {
   "codemirror_mode": {
    "name": "ipython",
    "version": 3
   },
   "file_extension": ".py",
   "mimetype": "text/x-python",
   "name": "python",
   "nbconvert_exporter": "python",
   "pygments_lexer": "ipython3",
   "version": "3.7.2"
  }
 },
 "nbformat": 4,
 "nbformat_minor": 2
}
