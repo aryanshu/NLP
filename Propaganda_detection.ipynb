{
  "nbformat": 4,
  "nbformat_minor": 0,
  "metadata": {
    "colab": {
      "name": "Propaganda-detection",
      "provenance": [],
      "collapsed_sections": [],
      "include_colab_link": true
    },
    "kernelspec": {
      "name": "python3",
      "display_name": "Python 3"
    }
  },
  "cells": [
    {
      "cell_type": "markdown",
      "metadata": {
        "id": "view-in-github",
        "colab_type": "text"
      },
      "source": [
        "<a href=\"https://colab.research.google.com/github/aryanshu/NLP/blob/master/Propaganda_detection.ipynb\" target=\"_parent\"><img src=\"https://colab.research.google.com/assets/colab-badge.svg\" alt=\"Open In Colab\"/></a>"
      ]
    },
    {
      "cell_type": "code",
      "metadata": {
        "id": "v9PvIrgySR9d",
        "colab_type": "code",
        "outputId": "0c30be3b-c878-4ffd-b2d2-f98877508028",
        "colab": {
          "base_uri": "https://localhost:8080/",
          "height": 34
        }
      },
      "source": [
        "from google.colab import drive\n",
        "drive.mount('/gdrive')"
      ],
      "execution_count": 0,
      "outputs": [
        {
          "output_type": "stream",
          "text": [
            "Drive already mounted at /gdrive; to attempt to forcibly remount, call drive.mount(\"/gdrive\", force_remount=True).\n"
          ],
          "name": "stdout"
        }
      ]
    },
    {
      "cell_type": "code",
      "metadata": {
        "id": "mCMAbOsOSfEk",
        "colab_type": "code",
        "outputId": "1ff64b8d-10cd-4355-d2a3-a0d9b1329d1f",
        "colab": {
          "base_uri": "https://localhost:8080/",
          "height": 34
        }
      },
      "source": [
        "cd \"/gdrive/My Drive/Colab Notebooks/\""
      ],
      "execution_count": 0,
      "outputs": [
        {
          "output_type": "stream",
          "text": [
            "/gdrive/My Drive/Colab Notebooks\n"
          ],
          "name": "stdout"
        }
      ]
    },
    {
      "cell_type": "code",
      "metadata": {
        "id": "KnnyJ_UticPy",
        "colab_type": "code",
        "colab": {}
      },
      "source": [
        "\n",
        "import pandas as pd\n",
        "import numpy as np\n",
        "import pickle\n",
        "\n",
        "from sklearn.feature_extraction.text import TfidfVectorizer\n",
        "from sklearn.decomposition import PCA\n",
        "from sklearn.model_selection import train_test_split\n",
        "from sklearn.metrics import accuracy_score, f1_score\n",
        "from sklearn.linear_model import LogisticRegression\n",
        "from sklearn.tree import DecisionTreeClassifier\n",
        "from sklearn.ensemble import AdaBoostClassifier, RandomForestClassifier\n",
        "from sklearn.svm import SVC\n",
        "from sklearn.naive_bayes import MultinomialNB\n",
        "from sklearn.pipeline import FeatureUnion"
      ],
      "execution_count": 0,
      "outputs": []
    },
    {
      "cell_type": "code",
      "metadata": {
        "id": "nHBtE4Zxf2eJ",
        "colab_type": "code",
        "outputId": "dafd23d4-180e-45c2-ca04-f82fb2c19b70",
        "colab": {
          "base_uri": "https://localhost:8080/",
          "height": 34
        }
      },
      "source": [
        "train_file_name = './datasets-v5/task-1/task1.train.txt'\n",
        "train_file_name"
      ],
      "execution_count": 0,
      "outputs": [
        {
          "output_type": "execute_result",
          "data": {
            "text/plain": [
              "'./datasets-v5/task-1/task1.train.txt'"
            ]
          },
          "metadata": {
            "tags": []
          },
          "execution_count": 5
        }
      ]
    },
    {
      "cell_type": "code",
      "metadata": {
        "id": "XemaJp3shOs1",
        "colab_type": "code",
        "outputId": "1000348d-fd35-4dc3-ff52-2839dcdb4ccb",
        "colab": {
          "base_uri": "https://localhost:8080/",
          "height": 34
        }
      },
      "source": [
        "articles_id, articles_content, gold_labels = ([], [], [])\n",
        "with open(train_file_name, \"r\", encoding='utf-8') as f:\n",
        "    for line in f.readlines():\n",
        "        article_content, article_id, gold_label = line.rstrip().split(\"\\t\")\n",
        "        articles_id.append(article_id)\n",
        "        articles_content.append(article_content)\n",
        "        gold_labels.append(gold_label)\n",
        "print(\"Number of documents in the training set: %d\"%(len(articles_content)))"
      ],
      "execution_count": 0,
      "outputs": [
        {
          "output_type": "stream",
          "text": [
            "Number of documents in the training set: 35993\n"
          ],
          "name": "stdout"
        }
      ]
    },
    {
      "cell_type": "code",
      "metadata": {
        "id": "lx2Dj3LDhVYR",
        "colab_type": "code",
        "colab": {}
      },
      "source": [
        "train = pd.DataFrame({'id':articles_id, 'text': articles_content, 'target': gold_labels})"
      ],
      "execution_count": 0,
      "outputs": []
    },
    {
      "cell_type": "code",
      "metadata": {
        "id": "wdDq2a7tiYJp",
        "colab_type": "code",
        "outputId": "d42e2ad2-f8b4-4f32-a9dc-62174487ed95",
        "colab": {
          "base_uri": "https://localhost:8080/",
          "height": 204
        }
      },
      "source": [
        "train.head()"
      ],
      "execution_count": 0,
      "outputs": [
        {
          "output_type": "execute_result",
          "data": {
            "text/html": [
              "<div>\n",
              "<style scoped>\n",
              "    .dataframe tbody tr th:only-of-type {\n",
              "        vertical-align: middle;\n",
              "    }\n",
              "\n",
              "    .dataframe tbody tr th {\n",
              "        vertical-align: top;\n",
              "    }\n",
              "\n",
              "    .dataframe thead th {\n",
              "        text-align: right;\n",
              "    }\n",
              "</style>\n",
              "<table border=\"1\" class=\"dataframe\">\n",
              "  <thead>\n",
              "    <tr style=\"text-align: right;\">\n",
              "      <th></th>\n",
              "      <th>id</th>\n",
              "      <th>text</th>\n",
              "      <th>target</th>\n",
              "    </tr>\n",
              "  </thead>\n",
              "  <tbody>\n",
              "    <tr>\n",
              "      <th>0</th>\n",
              "      <td>727600136</td>\n",
              "      <td>Et tu, Rhody?  A recent editorial in the Provi...</td>\n",
              "      <td>non-propaganda</td>\n",
              "    </tr>\n",
              "    <tr>\n",
              "      <th>1</th>\n",
              "      <td>731714618</td>\n",
              "      <td>A recent post in The Farmington Mirror — our t...</td>\n",
              "      <td>non-propaganda</td>\n",
              "    </tr>\n",
              "    <tr>\n",
              "      <th>2</th>\n",
              "      <td>731714635</td>\n",
              "      <td>President Donald Trump, as he often does while...</td>\n",
              "      <td>non-propaganda</td>\n",
              "    </tr>\n",
              "    <tr>\n",
              "      <th>3</th>\n",
              "      <td>728627182</td>\n",
              "      <td>February is Black History Month, and nothing l...</td>\n",
              "      <td>non-propaganda</td>\n",
              "    </tr>\n",
              "    <tr>\n",
              "      <th>4</th>\n",
              "      <td>728627443</td>\n",
              "      <td>The snow was so heavy, whipped up by gusting w...</td>\n",
              "      <td>non-propaganda</td>\n",
              "    </tr>\n",
              "  </tbody>\n",
              "</table>\n",
              "</div>"
            ],
            "text/plain": [
              "          id                                               text          target\n",
              "0  727600136  Et tu, Rhody?  A recent editorial in the Provi...  non-propaganda\n",
              "1  731714618  A recent post in The Farmington Mirror — our t...  non-propaganda\n",
              "2  731714635  President Donald Trump, as he often does while...  non-propaganda\n",
              "3  728627182  February is Black History Month, and nothing l...  non-propaganda\n",
              "4  728627443  The snow was so heavy, whipped up by gusting w...  non-propaganda"
            ]
          },
          "metadata": {
            "tags": []
          },
          "execution_count": 8
        }
      ]
    },
    {
      "cell_type": "code",
      "metadata": {
        "id": "DbuSv2YnGscK",
        "colab_type": "code",
        "outputId": "d331b83e-741c-4c9c-bc8f-80f95e482aca",
        "colab": {
          "base_uri": "https://localhost:8080/",
          "height": 204
        }
      },
      "source": [
        "train[\"target\"][train[\"target\"]==\"non-propaganda\"]=0\n",
        "train[\"target\"][train[\"target\"]==\"propaganda\"]=1\n",
        "train.head()"
      ],
      "execution_count": 0,
      "outputs": [
        {
          "output_type": "execute_result",
          "data": {
            "text/html": [
              "<div>\n",
              "<style scoped>\n",
              "    .dataframe tbody tr th:only-of-type {\n",
              "        vertical-align: middle;\n",
              "    }\n",
              "\n",
              "    .dataframe tbody tr th {\n",
              "        vertical-align: top;\n",
              "    }\n",
              "\n",
              "    .dataframe thead th {\n",
              "        text-align: right;\n",
              "    }\n",
              "</style>\n",
              "<table border=\"1\" class=\"dataframe\">\n",
              "  <thead>\n",
              "    <tr style=\"text-align: right;\">\n",
              "      <th></th>\n",
              "      <th>id</th>\n",
              "      <th>text</th>\n",
              "      <th>target</th>\n",
              "    </tr>\n",
              "  </thead>\n",
              "  <tbody>\n",
              "    <tr>\n",
              "      <th>0</th>\n",
              "      <td>727600136</td>\n",
              "      <td>Et tu, Rhody?  A recent editorial in the Provi...</td>\n",
              "      <td>0</td>\n",
              "    </tr>\n",
              "    <tr>\n",
              "      <th>1</th>\n",
              "      <td>731714618</td>\n",
              "      <td>A recent post in The Farmington Mirror — our t...</td>\n",
              "      <td>0</td>\n",
              "    </tr>\n",
              "    <tr>\n",
              "      <th>2</th>\n",
              "      <td>731714635</td>\n",
              "      <td>President Donald Trump, as he often does while...</td>\n",
              "      <td>0</td>\n",
              "    </tr>\n",
              "    <tr>\n",
              "      <th>3</th>\n",
              "      <td>728627182</td>\n",
              "      <td>February is Black History Month, and nothing l...</td>\n",
              "      <td>0</td>\n",
              "    </tr>\n",
              "    <tr>\n",
              "      <th>4</th>\n",
              "      <td>728627443</td>\n",
              "      <td>The snow was so heavy, whipped up by gusting w...</td>\n",
              "      <td>0</td>\n",
              "    </tr>\n",
              "  </tbody>\n",
              "</table>\n",
              "</div>"
            ],
            "text/plain": [
              "          id                                               text target\n",
              "0  727600136  Et tu, Rhody?  A recent editorial in the Provi...      0\n",
              "1  731714618  A recent post in The Farmington Mirror — our t...      0\n",
              "2  731714635  President Donald Trump, as he often does while...      0\n",
              "3  728627182  February is Black History Month, and nothing l...      0\n",
              "4  728627443  The snow was so heavy, whipped up by gusting w...      0"
            ]
          },
          "metadata": {
            "tags": []
          },
          "execution_count": 9
        }
      ]
    },
    {
      "cell_type": "code",
      "metadata": {
        "id": "hKKnh82l3CPX",
        "colab_type": "code",
        "colab": {}
      },
      "source": [
        "target=train.target\n",
        "target=target.astype(int)\n",
        "x_train=train.text.tolist()\n"
      ],
      "execution_count": 0,
      "outputs": []
    },
    {
      "cell_type": "code",
      "metadata": {
        "id": "BzaitcfRsNCm",
        "colab_type": "code",
        "colab": {}
      },
      "source": [
        "X_train, X_valid, y_train, y_valid = train_test_split(x_train, target, test_size=0.2, random_state=0, shuffle=True)"
      ],
      "execution_count": 0,
      "outputs": []
    },
    {
      "cell_type": "code",
      "metadata": {
        "id": "f1qcrm9S3gM_",
        "colab_type": "code",
        "colab": {}
      },
      "source": [
        "tv=TfidfVectorizer(stop_words=\"english\",ngram_range=(1,1),max_df=.5,min_df=.01) "
      ],
      "execution_count": 0,
      "outputs": []
    },
    {
      "cell_type": "code",
      "metadata": {
        "id": "qygGKBa-2-Tr",
        "colab_type": "code",
        "colab": {}
      },
      "source": [
        "x_train=tv.fit_transform(X_train)\n",
        "x_train=x_train.toarray()\n",
        "x_test=tv.transform(X_valid)"
      ],
      "execution_count": 0,
      "outputs": []
    },
    {
      "cell_type": "code",
      "metadata": {
        "id": "ZQb6HYFgI2cP",
        "colab_type": "code",
        "colab": {}
      },
      "source": [
        "from sklearn.metrics import confusion_matrix, accuracy_score,recall_score,precision_score"
      ],
      "execution_count": 0,
      "outputs": []
    },
    {
      "cell_type": "code",
      "metadata": {
        "id": "9sMypmDxIajr",
        "colab_type": "code",
        "outputId": "ea38d2f9-1c01-43f6-add9-09808bcd4a8c",
        "colab": {
          "base_uri": "https://localhost:8080/",
          "height": 85
        }
      },
      "source": [
        "model=MultinomialNB()\n",
        "model.fit(x_train,y_train)\n",
        "ypred=model.predict(x_test)\n",
        "accuracy=accuracy_score(y_valid,ypred)\n",
        "f1=f1_score(y_valid,ypred)\n",
        "recall=recall_score(y_valid,ypred)\n",
        "precision=precision_score(y_valid,ypred)\n",
        "print(accuracy)\n",
        "print(f1)\n",
        "print(recall)\n",
        "print(precision)"
      ],
      "execution_count": 0,
      "outputs": [
        {
          "output_type": "stream",
          "text": [
            "0.9331851646061953\n",
            "0.605414273995078\n",
            "0.46125\n",
            "0.8806682577565632\n"
          ],
          "name": "stdout"
        }
      ]
    },
    {
      "cell_type": "code",
      "metadata": {
        "id": "9Rgt4sxuJjYH",
        "colab_type": "code",
        "outputId": "005a671d-b58b-42a0-e2a6-9bf5f8d55ea7",
        "colab": {
          "base_uri": "https://localhost:8080/",
          "height": 85
        }
      },
      "source": [
        "model2=AdaBoostClassifier()\n",
        "model2.fit(x_train,y_train)\n",
        "ypred=model2.predict(x_test)\n",
        "accuracy=accuracy_score(y_valid,ypred)\n",
        "f1=f1_score(y_valid,ypred)\n",
        "recall=recall_score(y_valid,ypred)\n",
        "precision=precision_score(y_valid,ypred)\n",
        "print(accuracy)\n",
        "print(f1)\n",
        "print(recall)\n",
        "print(precision)"
      ],
      "execution_count": 0,
      "outputs": [
        {
          "output_type": "stream",
          "text": [
            "0.9345742464231144\n",
            "0.6564551422319475\n",
            "0.5625\n",
            "0.7880910683012259\n"
          ],
          "name": "stdout"
        }
      ]
    },
    {
      "cell_type": "code",
      "metadata": {
        "id": "NrprPb_uJxI_",
        "colab_type": "code",
        "outputId": "6976db4e-2a97-47ae-a7c7-169614fde7a5",
        "colab": {
          "base_uri": "https://localhost:8080/",
          "height": 139
        }
      },
      "source": [
        "model3=LogisticRegression()\n",
        "model3.fit(x_train,y_train)\n",
        "ypred=model3.predict(x_test)\n",
        "accuracy=accuracy_score(y_valid,ypred)\n",
        "f1=f1_score(y_valid,ypred)\n",
        "recall=recall_score(y_valid,ypred)\n",
        "precision=precision_score(y_valid,ypred)\n",
        "print(accuracy)\n",
        "print(f1)\n",
        "print(recall)\n",
        "print(precision)\n"
      ],
      "execution_count": 0,
      "outputs": [
        {
          "output_type": "stream",
          "text": [
            "/usr/local/lib/python3.6/dist-packages/sklearn/linear_model/logistic.py:432: FutureWarning: Default solver will be changed to 'lbfgs' in 0.22. Specify a solver to silence this warning.\n",
            "  FutureWarning)\n"
          ],
          "name": "stderr"
        },
        {
          "output_type": "stream",
          "text": [
            "0.9480483400472288\n",
            "0.7204783258594918\n",
            "0.6025\n",
            "0.895910780669145\n"
          ],
          "name": "stdout"
        }
      ]
    },
    {
      "cell_type": "code",
      "metadata": {
        "id": "Ccbgid3DrooY",
        "colab_type": "code",
        "outputId": "91756a30-ff3b-4c77-a63c-b539e80dcae2",
        "colab": {
          "base_uri": "https://localhost:8080/",
          "height": 85
        }
      },
      "source": [
        "model4=DecisionTreeClassifier(max_depth=50, min_samples_split=3)\n",
        "model4.fit(x_train,y_train)\n",
        "ypred=model4.predict(x_test)\n",
        "accuracy=accuracy_score(y_valid,ypred)\n",
        "f1=f1_score(y_valid,ypred)\n",
        "recall=recall_score(y_valid,ypred)\n",
        "precision=precision_score(y_valid,ypred)\n",
        "print(accuracy)\n",
        "print(f1)\n",
        "print(recall)\n",
        "print(precision)"
      ],
      "execution_count": 0,
      "outputs": [
        {
          "output_type": "stream",
          "text": [
            "0.9090151409918045\n",
            "0.5716154349247875\n",
            "0.54625\n",
            "0.5994513031550068\n"
          ],
          "name": "stdout"
        }
      ]
    },
    {
      "cell_type": "code",
      "metadata": {
        "id": "vAibteGSr2Nq",
        "colab_type": "code",
        "colab": {}
      },
      "source": [
        "with open(\"models/Navie.pickle\",\"wb\") as file:\n",
        "  pickle.dump(model,file)"
      ],
      "execution_count": 0,
      "outputs": []
    },
    {
      "cell_type": "code",
      "metadata": {
        "id": "tkp71q88r1Xt",
        "colab_type": "code",
        "colab": {}
      },
      "source": [
        "with open(\"models/Ada.pickle\",\"wb\") as file:\n",
        "  pickle.dump(model2,file)"
      ],
      "execution_count": 0,
      "outputs": []
    },
    {
      "cell_type": "code",
      "metadata": {
        "id": "cOYLK6IULVzi",
        "colab_type": "code",
        "colab": {}
      },
      "source": [
        "with open(\"models/LR.pickle\",\"wb\") as file:\n",
        "  pickle.dump(model3,file)"
      ],
      "execution_count": 0,
      "outputs": []
    },
    {
      "cell_type": "code",
      "metadata": {
        "id": "LNL8BxtKLs9k",
        "colab_type": "code",
        "colab": {}
      },
      "source": [
        "with open(\"models/DTC.pickle\",\"wb\") as file:\n",
        "  pickle.dump(model4,file)"
      ],
      "execution_count": 0,
      "outputs": []
    },
    {
      "cell_type": "code",
      "metadata": {
        "id": "kGg3MDctM2vN",
        "colab_type": "code",
        "colab": {}
      },
      "source": [
        "model3=open(\"models/Ada.pickle\",\"rb\")"
      ],
      "execution_count": 0,
      "outputs": []
    },
    {
      "cell_type": "code",
      "metadata": {
        "id": "ZLJ4FFgpNumk",
        "colab_type": "code",
        "outputId": "bc73aec6-36c1-4506-8a23-f246499d45f9",
        "colab": {
          "base_uri": "https://localhost:8080/",
          "height": 34
        }
      },
      "source": [
        "\"\"\"\n",
        "f2 = open(\"1.txt\", \"r\")\n",
        "lines=f2.readlines()\n",
        "\n",
        "test=pd.DataFrame([lines])\n",
        "\"\"\"\n",
        "\n",
        "\n",
        "\n"
      ],
      "execution_count": 0,
      "outputs": [
        {
          "output_type": "execute_result",
          "data": {
            "text/plain": [
              "'\\nf2 = open(\"1.txt\", \"r\")\\nlines=f2.readlines()\\n\\ntest=pd.DataFrame([lines])\\n'"
            ]
          },
          "metadata": {
            "tags": []
          },
          "execution_count": 24
        }
      ]
    },
    {
      "cell_type": "code",
      "metadata": {
        "id": "dVNH1HtcObZF",
        "colab_type": "code",
        "outputId": "ec9cfd77-0dc5-432a-eec5-ca3fa7b54891",
        "colab": {
          "base_uri": "https://localhost:8080/",
          "height": 54
        }
      },
      "source": [
        "\"\"\"\n",
        "def preprocess1(test):\n",
        "  test=test.iloc[0]\n",
        "  test=test.to_list()\n",
        "  \n",
        "  test=tv.transform(test)\n",
        "  pred=model.predict(test)\n",
        "  return pred \n",
        "pred=preprocess1(test)\n",
        "\"\"\"\n"
      ],
      "execution_count": 0,
      "outputs": [
        {
          "output_type": "execute_result",
          "data": {
            "text/plain": [
              "'\\ndef preprocess1(test):\\n  test=test.iloc[0]\\n  test=test.to_list()\\n  \\n  test=tv.transform(test)\\n  pred=model.predict(test)\\n  return pred \\npred=preprocess1(test)\\n'"
            ]
          },
          "metadata": {
            "tags": []
          },
          "execution_count": 25
        }
      ]
    },
    {
      "cell_type": "code",
      "metadata": {
        "id": "jt9jgQhqOg19",
        "colab_type": "code",
        "outputId": "24a1fe60-c26f-4843-81c9-258922afdd4b",
        "colab": {
          "base_uri": "https://localhost:8080/",
          "height": 34
        }
      },
      "source": [
        "\"\"\"\n",
        "f=[]\n",
        "for k in iter(pred):\n",
        "  if k==0:\n",
        "    f.append(\"non-propaganda\")\n",
        "  else:\n",
        "    f.append(\"propaganda\")\n",
        "f\n",
        "\"\"\""
      ],
      "execution_count": 0,
      "outputs": [
        {
          "output_type": "execute_result",
          "data": {
            "text/plain": [
              "'\\nf=[]\\nfor k in iter(pred):\\n  if k==0:\\n    f.append(\"non-propaganda\")\\n  else:\\n    f.append(\"propaganda\")\\nf\\n'"
            ]
          },
          "metadata": {
            "tags": []
          },
          "execution_count": 26
        }
      ]
    },
    {
      "cell_type": "code",
      "metadata": {
        "id": "O684C3lWQ4Zs",
        "colab_type": "code",
        "outputId": "026e7fa2-6deb-45ca-d374-76b08b53bece",
        "colab": {
          "base_uri": "https://localhost:8080/",
          "height": 34
        }
      },
      "source": [
        "\"\"\"\n",
        "import json\n",
        "with open('prediction.json', 'w') as f1:\n",
        "    json.dump(f, f1)\n",
        "\"\"\""
      ],
      "execution_count": 0,
      "outputs": [
        {
          "output_type": "execute_result",
          "data": {
            "text/plain": [
              "\"\\nimport json\\nwith open('prediction.json', 'w') as f1:\\n    json.dump(f, f1)\\n\""
            ]
          },
          "metadata": {
            "tags": []
          },
          "execution_count": 27
        }
      ]
    },
    {
      "cell_type": "code",
      "metadata": {
        "id": "if3GX7Prx4Jb",
        "colab_type": "code",
        "outputId": "f3cc5329-65e5-4396-d4ed-0d21e3e09f45",
        "colab": {
          "base_uri": "https://localhost:8080/",
          "height": 34
        }
      },
      "source": [
        "pwd"
      ],
      "execution_count": 0,
      "outputs": [
        {
          "output_type": "execute_result",
          "data": {
            "text/plain": [
              "'/gdrive/My Drive/Colab Notebooks'"
            ]
          },
          "metadata": {
            "tags": []
          },
          "execution_count": 35
        }
      ]
    },
    {
      "cell_type": "code",
      "metadata": {
        "id": "CaZZiYmpx5Dy",
        "colab_type": "code",
        "colab": {}
      },
      "source": [
        "model2=open(\"models/bert_e1.pickle\",\"rb\")"
      ],
      "execution_count": 0,
      "outputs": []
    },
    {
      "cell_type": "code",
      "metadata": {
        "id": "y9ochX1XyzN-",
        "colab_type": "code",
        "colab": {}
      },
      "source": [
        ""
      ],
      "execution_count": 0,
      "outputs": []
    }
  ]
}