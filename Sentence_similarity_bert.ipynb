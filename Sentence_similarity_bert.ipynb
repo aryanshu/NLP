{
  "nbformat": 4,
  "nbformat_minor": 0,
  "metadata": {
    "colab": {
      "name": "Sentence_similarity_bert.ipynb",
      "provenance": [],
      "include_colab_link": true
    },
    "kernelspec": {
      "name": "python3",
      "display_name": "Python 3"
    },
    "accelerator": "GPU"
  },
  "cells": [
    {
      "cell_type": "markdown",
      "metadata": {
        "id": "view-in-github",
        "colab_type": "text"
      },
      "source": [
        "<a href=\"https://colab.research.google.com/github/aryanshu/NLP/blob/master/Sentence_similarity_bert.ipynb\" target=\"_parent\"><img src=\"https://colab.research.google.com/assets/colab-badge.svg\" alt=\"Open In Colab\"/></a>"
      ]
    },
    {
      "cell_type": "code",
      "metadata": {
        "id": "CUsV_OFtUnL4",
        "colab_type": "code",
        "outputId": "0fb632bc-b3e4-48c0-c306-88f2e60dcf21",
        "colab": {
          "base_uri": "https://localhost:8080/",
          "height": 35
        }
      },
      "source": [
        "from google.colab import drive\n",
        "drive.mount('/gdrive')"
      ],
      "execution_count": 43,
      "outputs": [
        {
          "output_type": "stream",
          "text": [
            "Drive already mounted at /gdrive; to attempt to forcibly remount, call drive.mount(\"/gdrive\", force_remount=True).\n"
          ],
          "name": "stdout"
        }
      ]
    },
    {
      "cell_type": "code",
      "metadata": {
        "id": "ggXUKzt9bDqa",
        "colab_type": "code",
        "outputId": "484c30df-27bf-4b51-c432-e5a2457a394c",
        "colab": {
          "base_uri": "https://localhost:8080/",
          "height": 35
        }
      },
      "source": [
        "cd \"/gdrive/My Drive/Colab Notebooks\""
      ],
      "execution_count": 44,
      "outputs": [
        {
          "output_type": "stream",
          "text": [
            "/gdrive/My Drive/Colab Notebooks\n"
          ],
          "name": "stdout"
        }
      ]
    },
    {
      "cell_type": "code",
      "metadata": {
        "id": "b6OhBye9dhCu",
        "colab_type": "code",
        "colab": {
          "base_uri": "https://localhost:8080/",
          "height": 54
        },
        "outputId": "9b011cf8-ea88-49c1-f9b8-9a146e7ab43c"
      },
      "source": [
        "!unzip question-pairs-dataset.zip"
      ],
      "execution_count": 5,
      "outputs": [
        {
          "output_type": "stream",
          "text": [
            "Archive:  question-pairs-dataset.zip\n",
            "  inflating: questions.csv           \n"
          ],
          "name": "stdout"
        }
      ]
    },
    {
      "cell_type": "code",
      "metadata": {
        "id": "r5kw1fj4bbiU",
        "colab_type": "code",
        "colab": {}
      },
      "source": [
        "import pandas as pd\n",
        "import pandas as pd\n",
        "import numpy as np\n",
        "import nltk\n",
        "from nltk.corpus import stopwords\n",
        "from nltk.stem import SnowballStemmer\n",
        "import re\n",
        "from sklearn.metrics import accuracy_score"
      ],
      "execution_count": 0,
      "outputs": []
    },
    {
      "cell_type": "code",
      "metadata": {
        "id": "x2t8dHSXawKF",
        "colab_type": "code",
        "colab": {}
      },
      "source": [
        "df=pd.read_csv('questions.csv')"
      ],
      "execution_count": 0,
      "outputs": []
    },
    {
      "cell_type": "code",
      "metadata": {
        "id": "VRDnd8HobWut",
        "colab_type": "code",
        "outputId": "c21cb012-3d8b-475e-cd50-18144803826c",
        "colab": {
          "base_uri": "https://localhost:8080/",
          "height": 198
        }
      },
      "source": [
        "df.head()"
      ],
      "execution_count": 60,
      "outputs": [
        {
          "output_type": "execute_result",
          "data": {
            "text/html": [
              "<div>\n",
              "<style scoped>\n",
              "    .dataframe tbody tr th:only-of-type {\n",
              "        vertical-align: middle;\n",
              "    }\n",
              "\n",
              "    .dataframe tbody tr th {\n",
              "        vertical-align: top;\n",
              "    }\n",
              "\n",
              "    .dataframe thead th {\n",
              "        text-align: right;\n",
              "    }\n",
              "</style>\n",
              "<table border=\"1\" class=\"dataframe\">\n",
              "  <thead>\n",
              "    <tr style=\"text-align: right;\">\n",
              "      <th></th>\n",
              "      <th>id</th>\n",
              "      <th>qid1</th>\n",
              "      <th>qid2</th>\n",
              "      <th>question1</th>\n",
              "      <th>question2</th>\n",
              "      <th>is_duplicate</th>\n",
              "    </tr>\n",
              "  </thead>\n",
              "  <tbody>\n",
              "    <tr>\n",
              "      <th>0</th>\n",
              "      <td>0</td>\n",
              "      <td>1</td>\n",
              "      <td>2</td>\n",
              "      <td>What is the step by step guide to invest in sh...</td>\n",
              "      <td>What is the step by step guide to invest in sh...</td>\n",
              "      <td>0</td>\n",
              "    </tr>\n",
              "    <tr>\n",
              "      <th>1</th>\n",
              "      <td>1</td>\n",
              "      <td>3</td>\n",
              "      <td>4</td>\n",
              "      <td>What is the story of Kohinoor (Koh-i-Noor) Dia...</td>\n",
              "      <td>What would happen if the Indian government sto...</td>\n",
              "      <td>0</td>\n",
              "    </tr>\n",
              "    <tr>\n",
              "      <th>2</th>\n",
              "      <td>2</td>\n",
              "      <td>5</td>\n",
              "      <td>6</td>\n",
              "      <td>How can I increase the speed of my internet co...</td>\n",
              "      <td>How can Internet speed be increased by hacking...</td>\n",
              "      <td>0</td>\n",
              "    </tr>\n",
              "    <tr>\n",
              "      <th>3</th>\n",
              "      <td>3</td>\n",
              "      <td>7</td>\n",
              "      <td>8</td>\n",
              "      <td>Why am I mentally very lonely? How can I solve...</td>\n",
              "      <td>Find the remainder when [math]23^{24}[/math] i...</td>\n",
              "      <td>0</td>\n",
              "    </tr>\n",
              "    <tr>\n",
              "      <th>4</th>\n",
              "      <td>4</td>\n",
              "      <td>9</td>\n",
              "      <td>10</td>\n",
              "      <td>Which one dissolve in water quikly sugar, salt...</td>\n",
              "      <td>Which fish would survive in salt water?</td>\n",
              "      <td>0</td>\n",
              "    </tr>\n",
              "  </tbody>\n",
              "</table>\n",
              "</div>"
            ],
            "text/plain": [
              "   id  qid1  ...                                          question2 is_duplicate\n",
              "0   0     1  ...  What is the step by step guide to invest in sh...            0\n",
              "1   1     3  ...  What would happen if the Indian government sto...            0\n",
              "2   2     5  ...  How can Internet speed be increased by hacking...            0\n",
              "3   3     7  ...  Find the remainder when [math]23^{24}[/math] i...            0\n",
              "4   4     9  ...            Which fish would survive in salt water?            0\n",
              "\n",
              "[5 rows x 6 columns]"
            ]
          },
          "metadata": {
            "tags": []
          },
          "execution_count": 60
        }
      ]
    },
    {
      "cell_type": "code",
      "metadata": {
        "id": "wiM81NQ4SOHP",
        "colab_type": "code",
        "colab": {
          "base_uri": "https://localhost:8080/",
          "height": 217
        },
        "outputId": "240579d2-b443-4ee4-e36f-678e4b37fe4f"
      },
      "source": [
        "df.info()"
      ],
      "execution_count": 61,
      "outputs": [
        {
          "output_type": "stream",
          "text": [
            "<class 'pandas.core.frame.DataFrame'>\n",
            "RangeIndex: 404351 entries, 0 to 404350\n",
            "Data columns (total 6 columns):\n",
            "id              404351 non-null int64\n",
            "qid1            404351 non-null int64\n",
            "qid2            404351 non-null int64\n",
            "question1       404350 non-null object\n",
            "question2       404349 non-null object\n",
            "is_duplicate    404351 non-null int64\n",
            "dtypes: int64(4), object(2)\n",
            "memory usage: 18.5+ MB\n"
          ],
          "name": "stdout"
        }
      ]
    },
    {
      "cell_type": "code",
      "metadata": {
        "id": "2BVvoDK17AK3",
        "colab_type": "code",
        "colab": {}
      },
      "source": [
        "df.dropna(inplace=True)"
      ],
      "execution_count": 0,
      "outputs": []
    },
    {
      "cell_type": "code",
      "metadata": {
        "id": "YbxI8ECwSURx",
        "colab_type": "code",
        "colab": {
          "base_uri": "https://localhost:8080/",
          "height": 217
        },
        "outputId": "032a17f2-499d-4c5f-d7f6-cb178a8a3515"
      },
      "source": [
        "df.info()"
      ],
      "execution_count": 64,
      "outputs": [
        {
          "output_type": "stream",
          "text": [
            "<class 'pandas.core.frame.DataFrame'>\n",
            "Int64Index: 404348 entries, 0 to 404350\n",
            "Data columns (total 6 columns):\n",
            "id              404348 non-null int64\n",
            "qid1            404348 non-null int64\n",
            "qid2            404348 non-null int64\n",
            "question1       404348 non-null object\n",
            "question2       404348 non-null object\n",
            "is_duplicate    404348 non-null int64\n",
            "dtypes: int64(4), object(2)\n",
            "memory usage: 21.6+ MB\n"
          ],
          "name": "stdout"
        }
      ]
    },
    {
      "cell_type": "code",
      "metadata": {
        "id": "LHHlMYdJbhWx",
        "colab_type": "code",
        "outputId": "d5ae4eb9-96e8-4a97-ef25-7352a8bfd1fc",
        "colab": {
          "base_uri": "https://localhost:8080/",
          "height": 54
        }
      },
      "source": [
        "import torch\n",
        "if torch.cuda.is_available():   \n",
        "    device = torch.device(\"cuda\")\n",
        "    print('There are %d GPU(s) available.' % torch.cuda.device_count())\n",
        "    print('We will use the GPU:', torch.cuda.get_device_name(0))\n",
        "else:\n",
        "    print('No GPU available, using the CPU instead.')\n",
        "    device = torch.device(\"cpu\")"
      ],
      "execution_count": 65,
      "outputs": [
        {
          "output_type": "stream",
          "text": [
            "There are 1 GPU(s) available.\n",
            "We will use the GPU: Tesla P100-PCIE-16GB\n"
          ],
          "name": "stdout"
        }
      ]
    },
    {
      "cell_type": "code",
      "metadata": {
        "id": "lcRJ5tdcbvGE",
        "colab_type": "code",
        "outputId": "1362ef1a-ae06-4bd4-cb27-8cbc8d485bc5",
        "colab": {
          "base_uri": "https://localhost:8080/",
          "height": 401
        }
      },
      "source": [
        "!pip install transformers"
      ],
      "execution_count": 66,
      "outputs": [
        {
          "output_type": "stream",
          "text": [
            "Requirement already satisfied: transformers in /usr/local/lib/python3.6/dist-packages (2.3.0)\n",
            "Requirement already satisfied: regex!=2019.12.17 in /usr/local/lib/python3.6/dist-packages (from transformers) (2019.12.20)\n",
            "Requirement already satisfied: boto3 in /usr/local/lib/python3.6/dist-packages (from transformers) (1.10.47)\n",
            "Requirement already satisfied: sentencepiece in /usr/local/lib/python3.6/dist-packages (from transformers) (0.1.85)\n",
            "Requirement already satisfied: requests in /usr/local/lib/python3.6/dist-packages (from transformers) (2.21.0)\n",
            "Requirement already satisfied: sacremoses in /usr/local/lib/python3.6/dist-packages (from transformers) (0.0.38)\n",
            "Requirement already satisfied: numpy in /usr/local/lib/python3.6/dist-packages (from transformers) (1.17.5)\n",
            "Requirement already satisfied: tqdm in /usr/local/lib/python3.6/dist-packages (from transformers) (4.28.1)\n",
            "Requirement already satisfied: botocore<1.14.0,>=1.13.47 in /usr/local/lib/python3.6/dist-packages (from boto3->transformers) (1.13.47)\n",
            "Requirement already satisfied: s3transfer<0.3.0,>=0.2.0 in /usr/local/lib/python3.6/dist-packages (from boto3->transformers) (0.2.1)\n",
            "Requirement already satisfied: jmespath<1.0.0,>=0.7.1 in /usr/local/lib/python3.6/dist-packages (from boto3->transformers) (0.9.4)\n",
            "Requirement already satisfied: chardet<3.1.0,>=3.0.2 in /usr/local/lib/python3.6/dist-packages (from requests->transformers) (3.0.4)\n",
            "Requirement already satisfied: urllib3<1.25,>=1.21.1 in /usr/local/lib/python3.6/dist-packages (from requests->transformers) (1.24.3)\n",
            "Requirement already satisfied: idna<2.9,>=2.5 in /usr/local/lib/python3.6/dist-packages (from requests->transformers) (2.8)\n",
            "Requirement already satisfied: certifi>=2017.4.17 in /usr/local/lib/python3.6/dist-packages (from requests->transformers) (2019.11.28)\n",
            "Requirement already satisfied: joblib in /usr/local/lib/python3.6/dist-packages (from sacremoses->transformers) (0.14.1)\n",
            "Requirement already satisfied: six in /usr/local/lib/python3.6/dist-packages (from sacremoses->transformers) (1.12.0)\n",
            "Requirement already satisfied: click in /usr/local/lib/python3.6/dist-packages (from sacremoses->transformers) (7.0)\n",
            "Requirement already satisfied: docutils<0.16,>=0.10 in /usr/local/lib/python3.6/dist-packages (from botocore<1.14.0,>=1.13.47->boto3->transformers) (0.15.2)\n",
            "Requirement already satisfied: python-dateutil<3.0.0,>=2.1; python_version >= \"2.7\" in /usr/local/lib/python3.6/dist-packages (from botocore<1.14.0,>=1.13.47->boto3->transformers) (2.6.1)\n"
          ],
          "name": "stdout"
        }
      ]
    },
    {
      "cell_type": "code",
      "metadata": {
        "id": "MqxTY8e-b1eE",
        "colab_type": "code",
        "colab": {}
      },
      "source": [
        "from transformers import BertTokenizer"
      ],
      "execution_count": 0,
      "outputs": []
    },
    {
      "cell_type": "code",
      "metadata": {
        "id": "FASanpWvd-u4",
        "colab_type": "code",
        "colab": {}
      },
      "source": [
        "from transformers import BertTokenizer\n",
        "tokenizer = BertTokenizer.from_pretrained('bert-base-uncased', do_lower_case=True)"
      ],
      "execution_count": 0,
      "outputs": []
    },
    {
      "cell_type": "code",
      "metadata": {
        "id": "CTf4Rl8K8DDO",
        "colab_type": "code",
        "colab": {}
      },
      "source": [
        "df_n=df[100000:110000]\n",
        "df=df[:100000]"
      ],
      "execution_count": 0,
      "outputs": []
    },
    {
      "cell_type": "code",
      "metadata": {
        "id": "MCE19TS48bNm",
        "colab_type": "code",
        "colab": {}
      },
      "source": [
        "sent1=df.question1.values\n",
        "sent2=df.question2.values\n",
        "labels=df.is_duplicate.values\n"
      ],
      "execution_count": 0,
      "outputs": []
    },
    {
      "cell_type": "code",
      "metadata": {
        "id": "IfsPjB_jDrs4",
        "colab_type": "code",
        "outputId": "789551a2-68ec-47fb-cab1-f82d5a1a6d73",
        "colab": {
          "base_uri": "https://localhost:8080/",
          "height": 74
        }
      },
      "source": [
        "input_ids = []\n",
        "tokenize_text=[]\n",
        "for i in range(len(sent1)):\n",
        "    \n",
        "    encoded_sent = tokenizer.encode(\n",
        "                        sent1[i],\n",
        "                        sent2[i],                     \n",
        "                        add_special_tokens = True, \n",
        "                        max_length=64\n",
        "            \n",
        "                   )\n",
        "    input_ids.append(encoded_sent)\n",
        "\n",
        "print('Original: ', sent1[0],sent2[0])\n",
        "print('Token IDs:', input_ids[0])\n",
        "\n",
        "      \n"
      ],
      "execution_count": 74,
      "outputs": [
        {
          "output_type": "stream",
          "text": [
            "Original:  What is the step by step guide to invest in share market in india? What is the step by step guide to invest in share market?\n",
            "Token IDs: [101, 2054, 2003, 1996, 3357, 2011, 3357, 5009, 2000, 15697, 1999, 3745, 3006, 1999, 2634, 1029, 102, 2054, 2003, 1996, 3357, 2011, 3357, 5009, 2000, 15697, 1999, 3745, 3006, 1029, 102]\n"
          ],
          "name": "stdout"
        }
      ]
    },
    {
      "cell_type": "code",
      "metadata": {
        "id": "mbEZxvn-AOkA",
        "colab_type": "code",
        "colab": {}
      },
      "source": [
        "from keras.preprocessing.sequence import pad_sequences\n",
        "MAX_LEN = 64\n",
        "input_ids = pad_sequences(input_ids, maxlen=MAX_LEN, dtype=\"long\", \n",
        "                          value=0, truncating=\"post\", padding=\"post\")"
      ],
      "execution_count": 0,
      "outputs": []
    },
    {
      "cell_type": "code",
      "metadata": {
        "id": "w1plL6m3CH2w",
        "colab_type": "code",
        "colab": {}
      },
      "source": [
        "\n",
        "attention_masks = []\n",
        "\n",
        "\n",
        "for sent in input_ids:\n",
        "    att_mask = [int(token_id > 0) for token_id in sent]\n",
        "    attention_masks.append(att_mask)"
      ],
      "execution_count": 0,
      "outputs": []
    },
    {
      "cell_type": "code",
      "metadata": {
        "id": "hq6d76PKJXpw",
        "colab_type": "code",
        "colab": {}
      },
      "source": [
        "from sklearn.model_selection import train_test_split\n",
        "\n",
        "train_inputs, validation_inputs, train_labels, validation_labels = train_test_split(input_ids, labels, \n",
        "                                                            random_state=2018, test_size=0.1)\n",
        "\n",
        "train_masks, validation_masks, _, _ = train_test_split(attention_masks, labels,\n",
        "                                             random_state=2018, test_size=0.1)"
      ],
      "execution_count": 0,
      "outputs": []
    },
    {
      "cell_type": "code",
      "metadata": {
        "id": "7E2jbcdBJabP",
        "colab_type": "code",
        "colab": {}
      },
      "source": [
        "train_inputs = torch.tensor(train_inputs)\n",
        "validation_inputs = torch.tensor(validation_inputs)\n",
        "\n",
        "train_labels = torch.tensor(train_labels)\n",
        "validation_labels = torch.tensor(validation_labels)\n",
        "\n",
        "train_masks = torch.tensor(train_masks)\n",
        "validation_masks = torch.tensor(validation_masks)"
      ],
      "execution_count": 0,
      "outputs": []
    },
    {
      "cell_type": "code",
      "metadata": {
        "id": "lqD_eaOtJc-v",
        "colab_type": "code",
        "colab": {}
      },
      "source": [
        "from torch.utils.data import TensorDataset, DataLoader, RandomSampler, SequentialSampler\n",
        "\n",
        "batch_size = 32\n",
        "\n",
        "train_data = TensorDataset(train_inputs, train_masks, train_labels)\n",
        "train_sampler = RandomSampler(train_data)\n",
        "train_dataloader = DataLoader(train_data, sampler=train_sampler, batch_size=batch_size)\n",
        "\n",
        "validation_data = TensorDataset(validation_inputs, validation_masks, validation_labels)\n",
        "validation_sampler = SequentialSampler(validation_data)\n",
        "validation_dataloader = DataLoader(validation_data, sampler=validation_sampler, batch_size=batch_size)"
      ],
      "execution_count": 0,
      "outputs": []
    },
    {
      "cell_type": "code",
      "metadata": {
        "id": "S5W-m2TcJgc-",
        "colab_type": "code",
        "outputId": "31bd2468-c5b4-4eeb-b55a-afc1e09366fa",
        "colab": {
          "base_uri": "https://localhost:8080/",
          "height": 1000
        }
      },
      "source": [
        "from transformers import BertForSequenceClassification, AdamW, BertConfig\n",
        "\n",
        "model = BertForSequenceClassification.from_pretrained(\"bert-base-uncased\", num_labels=2)\n",
        "\n",
        "model.cuda()"
      ],
      "execution_count": 80,
      "outputs": [
        {
          "output_type": "execute_result",
          "data": {
            "text/plain": [
              "BertForSequenceClassification(\n",
              "  (bert): BertModel(\n",
              "    (embeddings): BertEmbeddings(\n",
              "      (word_embeddings): Embedding(30522, 768, padding_idx=0)\n",
              "      (position_embeddings): Embedding(512, 768)\n",
              "      (token_type_embeddings): Embedding(2, 768)\n",
              "      (LayerNorm): LayerNorm((768,), eps=1e-12, elementwise_affine=True)\n",
              "      (dropout): Dropout(p=0.1, inplace=False)\n",
              "    )\n",
              "    (encoder): BertEncoder(\n",
              "      (layer): ModuleList(\n",
              "        (0): BertLayer(\n",
              "          (attention): BertAttention(\n",
              "            (self): BertSelfAttention(\n",
              "              (query): Linear(in_features=768, out_features=768, bias=True)\n",
              "              (key): Linear(in_features=768, out_features=768, bias=True)\n",
              "              (value): Linear(in_features=768, out_features=768, bias=True)\n",
              "              (dropout): Dropout(p=0.1, inplace=False)\n",
              "            )\n",
              "            (output): BertSelfOutput(\n",
              "              (dense): Linear(in_features=768, out_features=768, bias=True)\n",
              "              (LayerNorm): LayerNorm((768,), eps=1e-12, elementwise_affine=True)\n",
              "              (dropout): Dropout(p=0.1, inplace=False)\n",
              "            )\n",
              "          )\n",
              "          (intermediate): BertIntermediate(\n",
              "            (dense): Linear(in_features=768, out_features=3072, bias=True)\n",
              "          )\n",
              "          (output): BertOutput(\n",
              "            (dense): Linear(in_features=3072, out_features=768, bias=True)\n",
              "            (LayerNorm): LayerNorm((768,), eps=1e-12, elementwise_affine=True)\n",
              "            (dropout): Dropout(p=0.1, inplace=False)\n",
              "          )\n",
              "        )\n",
              "        (1): BertLayer(\n",
              "          (attention): BertAttention(\n",
              "            (self): BertSelfAttention(\n",
              "              (query): Linear(in_features=768, out_features=768, bias=True)\n",
              "              (key): Linear(in_features=768, out_features=768, bias=True)\n",
              "              (value): Linear(in_features=768, out_features=768, bias=True)\n",
              "              (dropout): Dropout(p=0.1, inplace=False)\n",
              "            )\n",
              "            (output): BertSelfOutput(\n",
              "              (dense): Linear(in_features=768, out_features=768, bias=True)\n",
              "              (LayerNorm): LayerNorm((768,), eps=1e-12, elementwise_affine=True)\n",
              "              (dropout): Dropout(p=0.1, inplace=False)\n",
              "            )\n",
              "          )\n",
              "          (intermediate): BertIntermediate(\n",
              "            (dense): Linear(in_features=768, out_features=3072, bias=True)\n",
              "          )\n",
              "          (output): BertOutput(\n",
              "            (dense): Linear(in_features=3072, out_features=768, bias=True)\n",
              "            (LayerNorm): LayerNorm((768,), eps=1e-12, elementwise_affine=True)\n",
              "            (dropout): Dropout(p=0.1, inplace=False)\n",
              "          )\n",
              "        )\n",
              "        (2): BertLayer(\n",
              "          (attention): BertAttention(\n",
              "            (self): BertSelfAttention(\n",
              "              (query): Linear(in_features=768, out_features=768, bias=True)\n",
              "              (key): Linear(in_features=768, out_features=768, bias=True)\n",
              "              (value): Linear(in_features=768, out_features=768, bias=True)\n",
              "              (dropout): Dropout(p=0.1, inplace=False)\n",
              "            )\n",
              "            (output): BertSelfOutput(\n",
              "              (dense): Linear(in_features=768, out_features=768, bias=True)\n",
              "              (LayerNorm): LayerNorm((768,), eps=1e-12, elementwise_affine=True)\n",
              "              (dropout): Dropout(p=0.1, inplace=False)\n",
              "            )\n",
              "          )\n",
              "          (intermediate): BertIntermediate(\n",
              "            (dense): Linear(in_features=768, out_features=3072, bias=True)\n",
              "          )\n",
              "          (output): BertOutput(\n",
              "            (dense): Linear(in_features=3072, out_features=768, bias=True)\n",
              "            (LayerNorm): LayerNorm((768,), eps=1e-12, elementwise_affine=True)\n",
              "            (dropout): Dropout(p=0.1, inplace=False)\n",
              "          )\n",
              "        )\n",
              "        (3): BertLayer(\n",
              "          (attention): BertAttention(\n",
              "            (self): BertSelfAttention(\n",
              "              (query): Linear(in_features=768, out_features=768, bias=True)\n",
              "              (key): Linear(in_features=768, out_features=768, bias=True)\n",
              "              (value): Linear(in_features=768, out_features=768, bias=True)\n",
              "              (dropout): Dropout(p=0.1, inplace=False)\n",
              "            )\n",
              "            (output): BertSelfOutput(\n",
              "              (dense): Linear(in_features=768, out_features=768, bias=True)\n",
              "              (LayerNorm): LayerNorm((768,), eps=1e-12, elementwise_affine=True)\n",
              "              (dropout): Dropout(p=0.1, inplace=False)\n",
              "            )\n",
              "          )\n",
              "          (intermediate): BertIntermediate(\n",
              "            (dense): Linear(in_features=768, out_features=3072, bias=True)\n",
              "          )\n",
              "          (output): BertOutput(\n",
              "            (dense): Linear(in_features=3072, out_features=768, bias=True)\n",
              "            (LayerNorm): LayerNorm((768,), eps=1e-12, elementwise_affine=True)\n",
              "            (dropout): Dropout(p=0.1, inplace=False)\n",
              "          )\n",
              "        )\n",
              "        (4): BertLayer(\n",
              "          (attention): BertAttention(\n",
              "            (self): BertSelfAttention(\n",
              "              (query): Linear(in_features=768, out_features=768, bias=True)\n",
              "              (key): Linear(in_features=768, out_features=768, bias=True)\n",
              "              (value): Linear(in_features=768, out_features=768, bias=True)\n",
              "              (dropout): Dropout(p=0.1, inplace=False)\n",
              "            )\n",
              "            (output): BertSelfOutput(\n",
              "              (dense): Linear(in_features=768, out_features=768, bias=True)\n",
              "              (LayerNorm): LayerNorm((768,), eps=1e-12, elementwise_affine=True)\n",
              "              (dropout): Dropout(p=0.1, inplace=False)\n",
              "            )\n",
              "          )\n",
              "          (intermediate): BertIntermediate(\n",
              "            (dense): Linear(in_features=768, out_features=3072, bias=True)\n",
              "          )\n",
              "          (output): BertOutput(\n",
              "            (dense): Linear(in_features=3072, out_features=768, bias=True)\n",
              "            (LayerNorm): LayerNorm((768,), eps=1e-12, elementwise_affine=True)\n",
              "            (dropout): Dropout(p=0.1, inplace=False)\n",
              "          )\n",
              "        )\n",
              "        (5): BertLayer(\n",
              "          (attention): BertAttention(\n",
              "            (self): BertSelfAttention(\n",
              "              (query): Linear(in_features=768, out_features=768, bias=True)\n",
              "              (key): Linear(in_features=768, out_features=768, bias=True)\n",
              "              (value): Linear(in_features=768, out_features=768, bias=True)\n",
              "              (dropout): Dropout(p=0.1, inplace=False)\n",
              "            )\n",
              "            (output): BertSelfOutput(\n",
              "              (dense): Linear(in_features=768, out_features=768, bias=True)\n",
              "              (LayerNorm): LayerNorm((768,), eps=1e-12, elementwise_affine=True)\n",
              "              (dropout): Dropout(p=0.1, inplace=False)\n",
              "            )\n",
              "          )\n",
              "          (intermediate): BertIntermediate(\n",
              "            (dense): Linear(in_features=768, out_features=3072, bias=True)\n",
              "          )\n",
              "          (output): BertOutput(\n",
              "            (dense): Linear(in_features=3072, out_features=768, bias=True)\n",
              "            (LayerNorm): LayerNorm((768,), eps=1e-12, elementwise_affine=True)\n",
              "            (dropout): Dropout(p=0.1, inplace=False)\n",
              "          )\n",
              "        )\n",
              "        (6): BertLayer(\n",
              "          (attention): BertAttention(\n",
              "            (self): BertSelfAttention(\n",
              "              (query): Linear(in_features=768, out_features=768, bias=True)\n",
              "              (key): Linear(in_features=768, out_features=768, bias=True)\n",
              "              (value): Linear(in_features=768, out_features=768, bias=True)\n",
              "              (dropout): Dropout(p=0.1, inplace=False)\n",
              "            )\n",
              "            (output): BertSelfOutput(\n",
              "              (dense): Linear(in_features=768, out_features=768, bias=True)\n",
              "              (LayerNorm): LayerNorm((768,), eps=1e-12, elementwise_affine=True)\n",
              "              (dropout): Dropout(p=0.1, inplace=False)\n",
              "            )\n",
              "          )\n",
              "          (intermediate): BertIntermediate(\n",
              "            (dense): Linear(in_features=768, out_features=3072, bias=True)\n",
              "          )\n",
              "          (output): BertOutput(\n",
              "            (dense): Linear(in_features=3072, out_features=768, bias=True)\n",
              "            (LayerNorm): LayerNorm((768,), eps=1e-12, elementwise_affine=True)\n",
              "            (dropout): Dropout(p=0.1, inplace=False)\n",
              "          )\n",
              "        )\n",
              "        (7): BertLayer(\n",
              "          (attention): BertAttention(\n",
              "            (self): BertSelfAttention(\n",
              "              (query): Linear(in_features=768, out_features=768, bias=True)\n",
              "              (key): Linear(in_features=768, out_features=768, bias=True)\n",
              "              (value): Linear(in_features=768, out_features=768, bias=True)\n",
              "              (dropout): Dropout(p=0.1, inplace=False)\n",
              "            )\n",
              "            (output): BertSelfOutput(\n",
              "              (dense): Linear(in_features=768, out_features=768, bias=True)\n",
              "              (LayerNorm): LayerNorm((768,), eps=1e-12, elementwise_affine=True)\n",
              "              (dropout): Dropout(p=0.1, inplace=False)\n",
              "            )\n",
              "          )\n",
              "          (intermediate): BertIntermediate(\n",
              "            (dense): Linear(in_features=768, out_features=3072, bias=True)\n",
              "          )\n",
              "          (output): BertOutput(\n",
              "            (dense): Linear(in_features=3072, out_features=768, bias=True)\n",
              "            (LayerNorm): LayerNorm((768,), eps=1e-12, elementwise_affine=True)\n",
              "            (dropout): Dropout(p=0.1, inplace=False)\n",
              "          )\n",
              "        )\n",
              "        (8): BertLayer(\n",
              "          (attention): BertAttention(\n",
              "            (self): BertSelfAttention(\n",
              "              (query): Linear(in_features=768, out_features=768, bias=True)\n",
              "              (key): Linear(in_features=768, out_features=768, bias=True)\n",
              "              (value): Linear(in_features=768, out_features=768, bias=True)\n",
              "              (dropout): Dropout(p=0.1, inplace=False)\n",
              "            )\n",
              "            (output): BertSelfOutput(\n",
              "              (dense): Linear(in_features=768, out_features=768, bias=True)\n",
              "              (LayerNorm): LayerNorm((768,), eps=1e-12, elementwise_affine=True)\n",
              "              (dropout): Dropout(p=0.1, inplace=False)\n",
              "            )\n",
              "          )\n",
              "          (intermediate): BertIntermediate(\n",
              "            (dense): Linear(in_features=768, out_features=3072, bias=True)\n",
              "          )\n",
              "          (output): BertOutput(\n",
              "            (dense): Linear(in_features=3072, out_features=768, bias=True)\n",
              "            (LayerNorm): LayerNorm((768,), eps=1e-12, elementwise_affine=True)\n",
              "            (dropout): Dropout(p=0.1, inplace=False)\n",
              "          )\n",
              "        )\n",
              "        (9): BertLayer(\n",
              "          (attention): BertAttention(\n",
              "            (self): BertSelfAttention(\n",
              "              (query): Linear(in_features=768, out_features=768, bias=True)\n",
              "              (key): Linear(in_features=768, out_features=768, bias=True)\n",
              "              (value): Linear(in_features=768, out_features=768, bias=True)\n",
              "              (dropout): Dropout(p=0.1, inplace=False)\n",
              "            )\n",
              "            (output): BertSelfOutput(\n",
              "              (dense): Linear(in_features=768, out_features=768, bias=True)\n",
              "              (LayerNorm): LayerNorm((768,), eps=1e-12, elementwise_affine=True)\n",
              "              (dropout): Dropout(p=0.1, inplace=False)\n",
              "            )\n",
              "          )\n",
              "          (intermediate): BertIntermediate(\n",
              "            (dense): Linear(in_features=768, out_features=3072, bias=True)\n",
              "          )\n",
              "          (output): BertOutput(\n",
              "            (dense): Linear(in_features=3072, out_features=768, bias=True)\n",
              "            (LayerNorm): LayerNorm((768,), eps=1e-12, elementwise_affine=True)\n",
              "            (dropout): Dropout(p=0.1, inplace=False)\n",
              "          )\n",
              "        )\n",
              "        (10): BertLayer(\n",
              "          (attention): BertAttention(\n",
              "            (self): BertSelfAttention(\n",
              "              (query): Linear(in_features=768, out_features=768, bias=True)\n",
              "              (key): Linear(in_features=768, out_features=768, bias=True)\n",
              "              (value): Linear(in_features=768, out_features=768, bias=True)\n",
              "              (dropout): Dropout(p=0.1, inplace=False)\n",
              "            )\n",
              "            (output): BertSelfOutput(\n",
              "              (dense): Linear(in_features=768, out_features=768, bias=True)\n",
              "              (LayerNorm): LayerNorm((768,), eps=1e-12, elementwise_affine=True)\n",
              "              (dropout): Dropout(p=0.1, inplace=False)\n",
              "            )\n",
              "          )\n",
              "          (intermediate): BertIntermediate(\n",
              "            (dense): Linear(in_features=768, out_features=3072, bias=True)\n",
              "          )\n",
              "          (output): BertOutput(\n",
              "            (dense): Linear(in_features=3072, out_features=768, bias=True)\n",
              "            (LayerNorm): LayerNorm((768,), eps=1e-12, elementwise_affine=True)\n",
              "            (dropout): Dropout(p=0.1, inplace=False)\n",
              "          )\n",
              "        )\n",
              "        (11): BertLayer(\n",
              "          (attention): BertAttention(\n",
              "            (self): BertSelfAttention(\n",
              "              (query): Linear(in_features=768, out_features=768, bias=True)\n",
              "              (key): Linear(in_features=768, out_features=768, bias=True)\n",
              "              (value): Linear(in_features=768, out_features=768, bias=True)\n",
              "              (dropout): Dropout(p=0.1, inplace=False)\n",
              "            )\n",
              "            (output): BertSelfOutput(\n",
              "              (dense): Linear(in_features=768, out_features=768, bias=True)\n",
              "              (LayerNorm): LayerNorm((768,), eps=1e-12, elementwise_affine=True)\n",
              "              (dropout): Dropout(p=0.1, inplace=False)\n",
              "            )\n",
              "          )\n",
              "          (intermediate): BertIntermediate(\n",
              "            (dense): Linear(in_features=768, out_features=3072, bias=True)\n",
              "          )\n",
              "          (output): BertOutput(\n",
              "            (dense): Linear(in_features=3072, out_features=768, bias=True)\n",
              "            (LayerNorm): LayerNorm((768,), eps=1e-12, elementwise_affine=True)\n",
              "            (dropout): Dropout(p=0.1, inplace=False)\n",
              "          )\n",
              "        )\n",
              "      )\n",
              "    )\n",
              "    (pooler): BertPooler(\n",
              "      (dense): Linear(in_features=768, out_features=768, bias=True)\n",
              "      (activation): Tanh()\n",
              "    )\n",
              "  )\n",
              "  (dropout): Dropout(p=0.1, inplace=False)\n",
              "  (classifier): Linear(in_features=768, out_features=2, bias=True)\n",
              ")"
            ]
          },
          "metadata": {
            "tags": []
          },
          "execution_count": 80
        }
      ]
    },
    {
      "cell_type": "code",
      "metadata": {
        "id": "i1FqIYMRLcij",
        "colab_type": "code",
        "colab": {}
      },
      "source": [
        "\n",
        "optimizer = AdamW(model.parameters(),\n",
        "                  lr = 2e-5, \n",
        "                  eps = 1e-8 \n",
        "                )"
      ],
      "execution_count": 0,
      "outputs": []
    },
    {
      "cell_type": "code",
      "metadata": {
        "id": "ut5ggqh5JnV3",
        "colab_type": "code",
        "colab": {}
      },
      "source": [
        "from transformers import get_linear_schedule_with_warmup\n",
        "epochs = 3\n",
        "\n",
        "total_steps = len(train_dataloader) * epochs\n",
        "\n",
        "scheduler = get_linear_schedule_with_warmup(optimizer, \n",
        "                                            num_warmup_steps = 0,\n",
        "                                            num_training_steps = total_steps)"
      ],
      "execution_count": 0,
      "outputs": []
    },
    {
      "cell_type": "code",
      "metadata": {
        "id": "UfChofZ0JqSN",
        "colab_type": "code",
        "colab": {}
      },
      "source": [
        "import numpy as np\n",
        "\n",
        "def flat_accuracy(preds, labels):\n",
        "    pred_flat = np.argmax(preds, axis=1).flatten()\n",
        "    labels_flat = labels.flatten()\n",
        "    return np.sum(pred_flat == labels_flat) / len(labels_flat)"
      ],
      "execution_count": 0,
      "outputs": []
    },
    {
      "cell_type": "code",
      "metadata": {
        "id": "MzRnTJwEJtMP",
        "colab_type": "code",
        "colab": {}
      },
      "source": [
        "import time\n",
        "import datetime\n",
        "\n",
        "def format_time(elapsed):\n",
        "    '''\n",
        "    Takes a time in seconds and returns a string hh:mm:ss\n",
        "    '''\n",
        "    \n",
        "    elapsed_rounded = int(round((elapsed)))\n",
        "    \n",
        "    \n",
        "    return str(datetime.timedelta(seconds=elapsed_rounded))"
      ],
      "execution_count": 0,
      "outputs": []
    },
    {
      "cell_type": "code",
      "metadata": {
        "id": "DbUo-b3fJv-9",
        "colab_type": "code",
        "outputId": "230b2850-061f-48f4-9874-8dd11dc0aaee",
        "colab": {
          "base_uri": "https://localhost:8080/",
          "height": 1000
        }
      },
      "source": [
        "import random\n",
        "seed_val = 42\n",
        "\n",
        "random.seed(seed_val)\n",
        "np.random.seed(seed_val)\n",
        "torch.manual_seed(seed_val)\n",
        "torch.cuda.manual_seed_all(seed_val)\n",
        "\n",
        "loss_values = []\n",
        "\n",
        "model.zero_grad()\n",
        "\n",
        "\n",
        "for epoch_i in range(0, epochs):\n",
        "    \n",
        "    # ========================================\n",
        "    #               Training\n",
        "    # ========================================\n",
        "    \n",
        "    print(\"\")\n",
        "    print('======== Epoch {:} / {:} ========'.format(epoch_i + 1, epochs))\n",
        "    print('Training...')\n",
        "\n",
        "    t0 = time.time()\n",
        "\n",
        "    total_loss = 0\n",
        "\n",
        "    model.train()\n",
        "\n",
        "    for step, batch in enumerate(train_dataloader):\n",
        "\n",
        "        if step % 40 == 0 and not step == 0:\n",
        "            elapsed = format_time(time.time() - t0)\n",
        "            print('  Batch {:>5,}  of  {:>5,}.    Elapsed: {:}.'.format(step, len(train_dataloader), elapsed))\n",
        "\n",
        "   \n",
        "        model.train()\n",
        " \n",
        "        b_input_ids = batch[0].to(device)\n",
        "        b_input_mask = batch[1].to(device)\n",
        "        b_labels = batch[2].to(device)\n",
        "\n",
        "        outputs = model(b_input_ids, \n",
        "                    token_type_ids=None, \n",
        "                    attention_mask=b_input_mask, \n",
        "                    labels=b_labels)\n",
        "        \n",
        "        loss = outputs[0]\n",
        "\n",
        "        total_loss += loss.item()\n",
        "\n",
        "        loss.backward()\n",
        "\n",
        "        \n",
        "        torch.nn.utils.clip_grad_norm_(model.parameters(), 1.0)\n",
        "        optimizer.step()\n",
        "        scheduler.step()\n",
        "        model.zero_grad()\n",
        "\n",
        "\n",
        "\n",
        "    avg_train_loss = total_loss / len(train_dataloader)            \n",
        "    \n",
        "    loss_values.append(avg_train_loss)\n",
        "\n",
        "    print(\"\")\n",
        "    print(\"  Average training loss: {0:.2f}\".format(avg_train_loss))\n",
        "    print(\"  Training epcoh took: {:}\".format(format_time(time.time() - t0)))\n",
        "        \n",
        "    # ========================================\n",
        "    #               Validation\n",
        "    # ========================================\n",
        "\n",
        "    print(\"\")\n",
        "    print(\"Running Validation...\")\n",
        "\n",
        "    t0 = time.time()\n",
        "\n",
        "\n",
        "    model.eval()\n",
        "\n",
        "\n",
        "    eval_loss, eval_accuracy = 0, 0\n",
        "    nb_eval_steps, nb_eval_examples = 0, 0\n",
        "\n",
        "\n",
        "    for batch in validation_dataloader:\n",
        "        \n",
        "\n",
        "        batch = tuple(t.to(device) for t in batch)\n",
        "        \n",
        "   \n",
        "        b_input_ids, b_input_mask, b_labels = batch\n",
        "        \n",
        "\n",
        "        with torch.no_grad():        \n",
        "            outputs = model(b_input_ids, token_type_ids=None, attention_mask=b_input_mask)\n",
        "        \n",
        "        logits = outputs[0]\n",
        "\n",
        "        logits = logits.detach().cpu().numpy()\n",
        "        label_ids = b_labels.to('cpu').numpy()\n",
        "\n",
        "        tmp_eval_accuracy = flat_accuracy(logits, label_ids)\n",
        "\n",
        "        eval_accuracy += tmp_eval_accuracy\n",
        "\n",
        "        nb_eval_steps += 1\n",
        "\n",
        "    print(\"  Accuracy: {0:.2f}\".format(eval_accuracy/nb_eval_steps))\n",
        "    print(\"  Validation took: {:}\".format(format_time(time.time() - t0)))\n",
        "    torch.save(model.state_dict(), \"models/sent_bert1.pth\")\n",
        "\n",
        "print(\"\")\n",
        "print(\"Training complete!\")"
      ],
      "execution_count": 85,
      "outputs": [
        {
          "output_type": "stream",
          "text": [
            "\n",
            "======== Epoch 1 / 3 ========\n",
            "Training...\n",
            "  Batch    40  of  2,813.    Elapsed: 0:00:09.\n",
            "  Batch    80  of  2,813.    Elapsed: 0:00:19.\n",
            "  Batch   120  of  2,813.    Elapsed: 0:00:28.\n",
            "  Batch   160  of  2,813.    Elapsed: 0:00:38.\n",
            "  Batch   200  of  2,813.    Elapsed: 0:00:47.\n",
            "  Batch   240  of  2,813.    Elapsed: 0:00:57.\n",
            "  Batch   280  of  2,813.    Elapsed: 0:01:06.\n",
            "  Batch   320  of  2,813.    Elapsed: 0:01:15.\n",
            "  Batch   360  of  2,813.    Elapsed: 0:01:25.\n",
            "  Batch   400  of  2,813.    Elapsed: 0:01:34.\n",
            "  Batch   440  of  2,813.    Elapsed: 0:01:43.\n",
            "  Batch   480  of  2,813.    Elapsed: 0:01:53.\n",
            "  Batch   520  of  2,813.    Elapsed: 0:02:02.\n",
            "  Batch   560  of  2,813.    Elapsed: 0:02:12.\n",
            "  Batch   600  of  2,813.    Elapsed: 0:02:21.\n",
            "  Batch   640  of  2,813.    Elapsed: 0:02:30.\n",
            "  Batch   680  of  2,813.    Elapsed: 0:02:40.\n",
            "  Batch   720  of  2,813.    Elapsed: 0:02:49.\n",
            "  Batch   760  of  2,813.    Elapsed: 0:02:59.\n",
            "  Batch   800  of  2,813.    Elapsed: 0:03:08.\n",
            "  Batch   840  of  2,813.    Elapsed: 0:03:17.\n",
            "  Batch   880  of  2,813.    Elapsed: 0:03:27.\n",
            "  Batch   920  of  2,813.    Elapsed: 0:03:36.\n",
            "  Batch   960  of  2,813.    Elapsed: 0:03:45.\n",
            "  Batch 1,000  of  2,813.    Elapsed: 0:03:55.\n",
            "  Batch 1,040  of  2,813.    Elapsed: 0:04:04.\n",
            "  Batch 1,080  of  2,813.    Elapsed: 0:04:13.\n",
            "  Batch 1,120  of  2,813.    Elapsed: 0:04:23.\n",
            "  Batch 1,160  of  2,813.    Elapsed: 0:04:32.\n",
            "  Batch 1,200  of  2,813.    Elapsed: 0:04:42.\n",
            "  Batch 1,240  of  2,813.    Elapsed: 0:04:51.\n",
            "  Batch 1,280  of  2,813.    Elapsed: 0:05:00.\n",
            "  Batch 1,320  of  2,813.    Elapsed: 0:05:10.\n",
            "  Batch 1,360  of  2,813.    Elapsed: 0:05:19.\n",
            "  Batch 1,400  of  2,813.    Elapsed: 0:05:28.\n",
            "  Batch 1,440  of  2,813.    Elapsed: 0:05:38.\n",
            "  Batch 1,480  of  2,813.    Elapsed: 0:05:47.\n",
            "  Batch 1,520  of  2,813.    Elapsed: 0:05:56.\n",
            "  Batch 1,560  of  2,813.    Elapsed: 0:06:06.\n",
            "  Batch 1,600  of  2,813.    Elapsed: 0:06:15.\n",
            "  Batch 1,640  of  2,813.    Elapsed: 0:06:24.\n",
            "  Batch 1,680  of  2,813.    Elapsed: 0:06:33.\n",
            "  Batch 1,720  of  2,813.    Elapsed: 0:06:43.\n",
            "  Batch 1,760  of  2,813.    Elapsed: 0:06:52.\n",
            "  Batch 1,800  of  2,813.    Elapsed: 0:07:01.\n",
            "  Batch 1,840  of  2,813.    Elapsed: 0:07:11.\n",
            "  Batch 1,880  of  2,813.    Elapsed: 0:07:20.\n",
            "  Batch 1,920  of  2,813.    Elapsed: 0:07:29.\n",
            "  Batch 1,960  of  2,813.    Elapsed: 0:07:39.\n",
            "  Batch 2,000  of  2,813.    Elapsed: 0:07:48.\n",
            "  Batch 2,040  of  2,813.    Elapsed: 0:07:57.\n",
            "  Batch 2,080  of  2,813.    Elapsed: 0:08:07.\n",
            "  Batch 2,120  of  2,813.    Elapsed: 0:08:16.\n",
            "  Batch 2,160  of  2,813.    Elapsed: 0:08:25.\n",
            "  Batch 2,200  of  2,813.    Elapsed: 0:08:34.\n",
            "  Batch 2,240  of  2,813.    Elapsed: 0:08:44.\n",
            "  Batch 2,280  of  2,813.    Elapsed: 0:08:53.\n",
            "  Batch 2,320  of  2,813.    Elapsed: 0:09:02.\n",
            "  Batch 2,360  of  2,813.    Elapsed: 0:09:12.\n",
            "  Batch 2,400  of  2,813.    Elapsed: 0:09:21.\n",
            "  Batch 2,440  of  2,813.    Elapsed: 0:09:30.\n",
            "  Batch 2,480  of  2,813.    Elapsed: 0:09:40.\n",
            "  Batch 2,520  of  2,813.    Elapsed: 0:09:49.\n",
            "  Batch 2,560  of  2,813.    Elapsed: 0:09:58.\n",
            "  Batch 2,600  of  2,813.    Elapsed: 0:10:08.\n",
            "  Batch 2,640  of  2,813.    Elapsed: 0:10:17.\n",
            "  Batch 2,680  of  2,813.    Elapsed: 0:10:26.\n",
            "  Batch 2,720  of  2,813.    Elapsed: 0:10:36.\n",
            "  Batch 2,760  of  2,813.    Elapsed: 0:10:45.\n",
            "  Batch 2,800  of  2,813.    Elapsed: 0:10:54.\n",
            "\n",
            "  Average training loss: 0.37\n",
            "  Training epcoh took: 0:10:57\n",
            "\n",
            "Running Validation...\n",
            "  Accuracy: 0.87\n",
            "  Validation took: 0:00:21\n",
            "\n",
            "======== Epoch 2 / 3 ========\n",
            "Training...\n",
            "  Batch    40  of  2,813.    Elapsed: 0:00:09.\n",
            "  Batch    80  of  2,813.    Elapsed: 0:00:19.\n",
            "  Batch   120  of  2,813.    Elapsed: 0:00:28.\n",
            "  Batch   160  of  2,813.    Elapsed: 0:00:37.\n",
            "  Batch   200  of  2,813.    Elapsed: 0:00:47.\n",
            "  Batch   240  of  2,813.    Elapsed: 0:00:56.\n",
            "  Batch   280  of  2,813.    Elapsed: 0:01:05.\n",
            "  Batch   320  of  2,813.    Elapsed: 0:01:15.\n",
            "  Batch   360  of  2,813.    Elapsed: 0:01:24.\n",
            "  Batch   400  of  2,813.    Elapsed: 0:01:33.\n",
            "  Batch   440  of  2,813.    Elapsed: 0:01:43.\n",
            "  Batch   480  of  2,813.    Elapsed: 0:01:52.\n",
            "  Batch   520  of  2,813.    Elapsed: 0:02:01.\n",
            "  Batch   560  of  2,813.    Elapsed: 0:02:11.\n",
            "  Batch   600  of  2,813.    Elapsed: 0:02:20.\n",
            "  Batch   640  of  2,813.    Elapsed: 0:02:29.\n",
            "  Batch   680  of  2,813.    Elapsed: 0:02:39.\n",
            "  Batch   720  of  2,813.    Elapsed: 0:02:48.\n",
            "  Batch   760  of  2,813.    Elapsed: 0:02:57.\n",
            "  Batch   800  of  2,813.    Elapsed: 0:03:07.\n",
            "  Batch   840  of  2,813.    Elapsed: 0:03:16.\n",
            "  Batch   880  of  2,813.    Elapsed: 0:03:25.\n",
            "  Batch   920  of  2,813.    Elapsed: 0:03:35.\n",
            "  Batch   960  of  2,813.    Elapsed: 0:03:44.\n",
            "  Batch 1,000  of  2,813.    Elapsed: 0:03:53.\n",
            "  Batch 1,040  of  2,813.    Elapsed: 0:04:03.\n",
            "  Batch 1,080  of  2,813.    Elapsed: 0:04:12.\n",
            "  Batch 1,120  of  2,813.    Elapsed: 0:04:22.\n",
            "  Batch 1,160  of  2,813.    Elapsed: 0:04:31.\n",
            "  Batch 1,200  of  2,813.    Elapsed: 0:04:40.\n",
            "  Batch 1,240  of  2,813.    Elapsed: 0:04:50.\n",
            "  Batch 1,280  of  2,813.    Elapsed: 0:04:59.\n",
            "  Batch 1,320  of  2,813.    Elapsed: 0:05:08.\n",
            "  Batch 1,360  of  2,813.    Elapsed: 0:05:18.\n",
            "  Batch 1,400  of  2,813.    Elapsed: 0:05:27.\n",
            "  Batch 1,440  of  2,813.    Elapsed: 0:05:37.\n",
            "  Batch 1,480  of  2,813.    Elapsed: 0:05:46.\n",
            "  Batch 1,520  of  2,813.    Elapsed: 0:05:55.\n",
            "  Batch 1,560  of  2,813.    Elapsed: 0:06:05.\n",
            "  Batch 1,600  of  2,813.    Elapsed: 0:06:14.\n",
            "  Batch 1,640  of  2,813.    Elapsed: 0:06:23.\n",
            "  Batch 1,680  of  2,813.    Elapsed: 0:06:33.\n",
            "  Batch 1,720  of  2,813.    Elapsed: 0:06:42.\n",
            "  Batch 1,760  of  2,813.    Elapsed: 0:06:51.\n",
            "  Batch 1,800  of  2,813.    Elapsed: 0:07:01.\n",
            "  Batch 1,840  of  2,813.    Elapsed: 0:07:10.\n",
            "  Batch 1,880  of  2,813.    Elapsed: 0:07:19.\n",
            "  Batch 1,920  of  2,813.    Elapsed: 0:07:29.\n",
            "  Batch 1,960  of  2,813.    Elapsed: 0:07:38.\n",
            "  Batch 2,000  of  2,813.    Elapsed: 0:07:48.\n",
            "  Batch 2,040  of  2,813.    Elapsed: 0:07:57.\n",
            "  Batch 2,080  of  2,813.    Elapsed: 0:08:06.\n",
            "  Batch 2,120  of  2,813.    Elapsed: 0:08:16.\n",
            "  Batch 2,160  of  2,813.    Elapsed: 0:08:25.\n",
            "  Batch 2,200  of  2,813.    Elapsed: 0:08:34.\n",
            "  Batch 2,240  of  2,813.    Elapsed: 0:08:44.\n",
            "  Batch 2,280  of  2,813.    Elapsed: 0:08:53.\n",
            "  Batch 2,320  of  2,813.    Elapsed: 0:09:02.\n",
            "  Batch 2,360  of  2,813.    Elapsed: 0:09:12.\n",
            "  Batch 2,400  of  2,813.    Elapsed: 0:09:21.\n",
            "  Batch 2,440  of  2,813.    Elapsed: 0:09:31.\n",
            "  Batch 2,480  of  2,813.    Elapsed: 0:09:40.\n",
            "  Batch 2,520  of  2,813.    Elapsed: 0:09:49.\n",
            "  Batch 2,560  of  2,813.    Elapsed: 0:09:59.\n",
            "  Batch 2,600  of  2,813.    Elapsed: 0:10:08.\n",
            "  Batch 2,640  of  2,813.    Elapsed: 0:10:17.\n",
            "  Batch 2,680  of  2,813.    Elapsed: 0:10:27.\n",
            "  Batch 2,720  of  2,813.    Elapsed: 0:10:36.\n",
            "  Batch 2,760  of  2,813.    Elapsed: 0:10:45.\n",
            "  Batch 2,800  of  2,813.    Elapsed: 0:10:55.\n",
            "\n",
            "  Average training loss: 0.23\n",
            "  Training epcoh took: 0:10:58\n",
            "\n",
            "Running Validation...\n",
            "  Accuracy: 0.88\n",
            "  Validation took: 0:00:21\n",
            "\n",
            "======== Epoch 3 / 3 ========\n",
            "Training...\n",
            "  Batch    40  of  2,813.    Elapsed: 0:00:09.\n",
            "  Batch    80  of  2,813.    Elapsed: 0:00:19.\n",
            "  Batch   120  of  2,813.    Elapsed: 0:00:28.\n",
            "  Batch   160  of  2,813.    Elapsed: 0:00:37.\n",
            "  Batch   200  of  2,813.    Elapsed: 0:00:47.\n",
            "  Batch   240  of  2,813.    Elapsed: 0:00:56.\n",
            "  Batch   280  of  2,813.    Elapsed: 0:01:05.\n",
            "  Batch   320  of  2,813.    Elapsed: 0:01:15.\n",
            "  Batch   360  of  2,813.    Elapsed: 0:01:24.\n",
            "  Batch   400  of  2,813.    Elapsed: 0:01:34.\n",
            "  Batch   440  of  2,813.    Elapsed: 0:01:43.\n",
            "  Batch   480  of  2,813.    Elapsed: 0:01:52.\n",
            "  Batch   520  of  2,813.    Elapsed: 0:02:01.\n",
            "  Batch   560  of  2,813.    Elapsed: 0:02:11.\n",
            "  Batch   600  of  2,813.    Elapsed: 0:02:20.\n",
            "  Batch   640  of  2,813.    Elapsed: 0:02:29.\n",
            "  Batch   680  of  2,813.    Elapsed: 0:02:39.\n",
            "  Batch   720  of  2,813.    Elapsed: 0:02:48.\n",
            "  Batch   760  of  2,813.    Elapsed: 0:02:57.\n",
            "  Batch   800  of  2,813.    Elapsed: 0:03:07.\n",
            "  Batch   840  of  2,813.    Elapsed: 0:03:16.\n",
            "  Batch   880  of  2,813.    Elapsed: 0:03:25.\n",
            "  Batch   920  of  2,813.    Elapsed: 0:03:35.\n",
            "  Batch   960  of  2,813.    Elapsed: 0:03:44.\n",
            "  Batch 1,000  of  2,813.    Elapsed: 0:03:53.\n",
            "  Batch 1,040  of  2,813.    Elapsed: 0:04:03.\n",
            "  Batch 1,080  of  2,813.    Elapsed: 0:04:12.\n",
            "  Batch 1,120  of  2,813.    Elapsed: 0:04:21.\n",
            "  Batch 1,160  of  2,813.    Elapsed: 0:04:31.\n",
            "  Batch 1,200  of  2,813.    Elapsed: 0:04:40.\n",
            "  Batch 1,240  of  2,813.    Elapsed: 0:04:49.\n",
            "  Batch 1,280  of  2,813.    Elapsed: 0:04:59.\n",
            "  Batch 1,320  of  2,813.    Elapsed: 0:05:08.\n",
            "  Batch 1,360  of  2,813.    Elapsed: 0:05:17.\n",
            "  Batch 1,400  of  2,813.    Elapsed: 0:05:26.\n",
            "  Batch 1,440  of  2,813.    Elapsed: 0:05:36.\n",
            "  Batch 1,480  of  2,813.    Elapsed: 0:05:45.\n",
            "  Batch 1,520  of  2,813.    Elapsed: 0:05:54.\n",
            "  Batch 1,560  of  2,813.    Elapsed: 0:06:04.\n",
            "  Batch 1,600  of  2,813.    Elapsed: 0:06:13.\n",
            "  Batch 1,640  of  2,813.    Elapsed: 0:06:22.\n",
            "  Batch 1,680  of  2,813.    Elapsed: 0:06:32.\n",
            "  Batch 1,720  of  2,813.    Elapsed: 0:06:41.\n",
            "  Batch 1,760  of  2,813.    Elapsed: 0:06:50.\n",
            "  Batch 1,800  of  2,813.    Elapsed: 0:06:59.\n",
            "  Batch 1,840  of  2,813.    Elapsed: 0:07:09.\n",
            "  Batch 1,880  of  2,813.    Elapsed: 0:07:18.\n",
            "  Batch 1,920  of  2,813.    Elapsed: 0:07:27.\n",
            "  Batch 1,960  of  2,813.    Elapsed: 0:07:37.\n",
            "  Batch 2,000  of  2,813.    Elapsed: 0:07:46.\n",
            "  Batch 2,040  of  2,813.    Elapsed: 0:07:55.\n",
            "  Batch 2,080  of  2,813.    Elapsed: 0:08:04.\n",
            "  Batch 2,120  of  2,813.    Elapsed: 0:08:14.\n",
            "  Batch 2,160  of  2,813.    Elapsed: 0:08:23.\n",
            "  Batch 2,200  of  2,813.    Elapsed: 0:08:32.\n",
            "  Batch 2,240  of  2,813.    Elapsed: 0:08:42.\n",
            "  Batch 2,280  of  2,813.    Elapsed: 0:08:51.\n",
            "  Batch 2,320  of  2,813.    Elapsed: 0:09:00.\n",
            "  Batch 2,360  of  2,813.    Elapsed: 0:09:09.\n",
            "  Batch 2,400  of  2,813.    Elapsed: 0:09:19.\n",
            "  Batch 2,440  of  2,813.    Elapsed: 0:09:28.\n",
            "  Batch 2,480  of  2,813.    Elapsed: 0:09:37.\n",
            "  Batch 2,520  of  2,813.    Elapsed: 0:09:47.\n",
            "  Batch 2,560  of  2,813.    Elapsed: 0:09:56.\n",
            "  Batch 2,600  of  2,813.    Elapsed: 0:10:05.\n",
            "  Batch 2,640  of  2,813.    Elapsed: 0:10:15.\n",
            "  Batch 2,680  of  2,813.    Elapsed: 0:10:24.\n",
            "  Batch 2,720  of  2,813.    Elapsed: 0:10:33.\n",
            "  Batch 2,760  of  2,813.    Elapsed: 0:10:42.\n",
            "  Batch 2,800  of  2,813.    Elapsed: 0:10:52.\n",
            "\n",
            "  Average training loss: 0.15\n",
            "  Training epcoh took: 0:10:55\n",
            "\n",
            "Running Validation...\n",
            "  Accuracy: 0.88\n",
            "  Validation took: 0:00:21\n",
            "\n",
            "Training complete!\n"
          ],
          "name": "stdout"
        }
      ]
    },
    {
      "cell_type": "markdown",
      "metadata": {
        "id": "uQgDGVEsuO8e",
        "colab_type": "text"
      },
      "source": [
        "##continuing training from cheakpoint"
      ]
    },
    {
      "cell_type": "code",
      "metadata": {
        "id": "3nw7BA52ud0e",
        "colab_type": "code",
        "colab": {}
      },
      "source": [
        "from transformers import get_linear_schedule_with_warmup\n",
        "epochs = 1\n",
        "\n",
        "total_steps = len(train_dataloader) * epochs\n",
        "\n",
        "scheduler = get_linear_schedule_with_warmup(optimizer, \n",
        "                                            num_warmup_steps = 0,\n",
        "                                            num_training_steps = total_steps)"
      ],
      "execution_count": 0,
      "outputs": []
    },
    {
      "cell_type": "code",
      "metadata": {
        "id": "SiHx_PhZrkIi",
        "colab_type": "code",
        "colab": {
          "base_uri": "https://localhost:8080/",
          "height": 35
        },
        "outputId": "93890add-15d4-4627-be05-e33fb7d52e28"
      },
      "source": [
        "model2=torch.load('models/sent_bert1.pth')\n",
        "model.load_state_dict(model2)"
      ],
      "execution_count": 30,
      "outputs": [
        {
          "output_type": "execute_result",
          "data": {
            "text/plain": [
              "<All keys matched successfully>"
            ]
          },
          "metadata": {
            "tags": []
          },
          "execution_count": 30
        }
      ]
    },
    {
      "cell_type": "code",
      "metadata": {
        "id": "QeVG2W9hrVzS",
        "colab_type": "code",
        "colab": {
          "base_uri": "https://localhost:8080/",
          "height": 1000
        },
        "outputId": "62ed1c72-92ac-4d86-d02f-efb857e66c77"
      },
      "source": [
        "import random\n",
        "seed_val = 42\n",
        "\n",
        "random.seed(seed_val)\n",
        "np.random.seed(seed_val)\n",
        "torch.manual_seed(seed_val)\n",
        "torch.cuda.manual_seed_all(seed_val)\n",
        "\n",
        "loss_values = []\n",
        "\n",
        "model.zero_grad()\n",
        "\n",
        "\n",
        "for epoch_i in range(0, 1):\n",
        "    \n",
        "    # ========================================\n",
        "    #               Training\n",
        "    # ========================================\n",
        "    \n",
        "    print(\"\")\n",
        "    print('======== Epoch {:} / {:} ========'.format(epoch_i + 1, epochs))\n",
        "    print('Training...')\n",
        "\n",
        "    t0 = time.time()\n",
        "\n",
        "    total_loss = 0\n",
        "\n",
        "    model.train()\n",
        "\n",
        "    for step, batch in enumerate(train_dataloader):\n",
        "\n",
        "        if step % 40 == 0 and not step == 0:\n",
        "            elapsed = format_time(time.time() - t0)\n",
        "            print('  Batch {:>5,}  of  {:>5,}.    Elapsed: {:}.'.format(step, len(train_dataloader), elapsed))\n",
        "\n",
        "   \n",
        "        model.train()\n",
        " \n",
        "        b_input_ids = batch[0].to(device)\n",
        "        b_input_mask = batch[1].to(device)\n",
        "        b_labels = batch[2].to(device)\n",
        "\n",
        "        outputs = model(b_input_ids, \n",
        "                    token_type_ids=None, \n",
        "                    attention_mask=b_input_mask, \n",
        "                    labels=b_labels)\n",
        "        \n",
        "        loss = outputs[0]\n",
        "\n",
        "        total_loss += loss.item()\n",
        "\n",
        "        loss.backward()\n",
        "\n",
        "        \n",
        "        torch.nn.utils.clip_grad_norm_(model.parameters(), 1.0)\n",
        "        optimizer.step()\n",
        "        scheduler.step()\n",
        "        model.zero_grad()\n",
        "\n",
        "\n",
        "\n",
        "    avg_train_loss = total_loss / len(train_dataloader)            \n",
        "    \n",
        "    loss_values.append(avg_train_loss)\n",
        "\n",
        "    print(\"\")\n",
        "    print(\"  Average training loss: {0:.2f}\".format(avg_train_loss))\n",
        "    print(\"  Training epcoh took: {:}\".format(format_time(time.time() - t0)))\n",
        "        \n",
        "    # ========================================\n",
        "    #               Validation\n",
        "    # ========================================\n",
        "\n",
        "    print(\"\")\n",
        "    print(\"Running Validation...\")\n",
        "\n",
        "    t0 = time.time()\n",
        "\n",
        "\n",
        "    model.eval()\n",
        "\n",
        "\n",
        "    eval_loss, eval_accuracy = 0, 0\n",
        "    nb_eval_steps, nb_eval_examples = 0, 0\n",
        "\n",
        "\n",
        "    for batch in validation_dataloader:\n",
        "        \n",
        "\n",
        "        batch = tuple(t.to(device) for t in batch)\n",
        "        \n",
        "   \n",
        "        b_input_ids, b_input_mask, b_labels = batch\n",
        "        \n",
        "\n",
        "        with torch.no_grad():        \n",
        "            outputs = model(b_input_ids, token_type_ids=None, attention_mask=b_input_mask)\n",
        "        \n",
        "        logits = outputs[0]\n",
        "\n",
        "        logits = logits.detach().cpu().numpy()\n",
        "        label_ids = b_labels.to('cpu').numpy()\n",
        "\n",
        "        tmp_eval_accuracy = flat_accuracy(logits, label_ids)\n",
        "\n",
        "        eval_accuracy += tmp_eval_accuracy\n",
        "\n",
        "        nb_eval_steps += 1\n",
        "\n",
        "    print(\"  Accuracy: {0:.2f}\".format(eval_accuracy/nb_eval_steps))\n",
        "    print(\"  Validation took: {:}\".format(format_time(time.time() - t0)))\n",
        "    torch.save(model.state_dict(), \"models/sent_bert1.pth\")\n",
        "\n",
        "print(\"\")\n",
        "print(\"Training complete!\")"
      ],
      "execution_count": 31,
      "outputs": [
        {
          "output_type": "stream",
          "text": [
            "\n",
            "======== Epoch 1 / 1 ========\n",
            "Training...\n",
            "  Batch    40  of  2,194.    Elapsed: 0:00:10.\n",
            "  Batch    80  of  2,194.    Elapsed: 0:00:19.\n",
            "  Batch   120  of  2,194.    Elapsed: 0:00:29.\n",
            "  Batch   160  of  2,194.    Elapsed: 0:00:38.\n",
            "  Batch   200  of  2,194.    Elapsed: 0:00:48.\n",
            "  Batch   240  of  2,194.    Elapsed: 0:00:58.\n",
            "  Batch   280  of  2,194.    Elapsed: 0:01:07.\n",
            "  Batch   320  of  2,194.    Elapsed: 0:01:17.\n",
            "  Batch   360  of  2,194.    Elapsed: 0:01:26.\n",
            "  Batch   400  of  2,194.    Elapsed: 0:01:36.\n",
            "  Batch   440  of  2,194.    Elapsed: 0:01:45.\n",
            "  Batch   480  of  2,194.    Elapsed: 0:01:55.\n",
            "  Batch   520  of  2,194.    Elapsed: 0:02:04.\n",
            "  Batch   560  of  2,194.    Elapsed: 0:02:14.\n",
            "  Batch   600  of  2,194.    Elapsed: 0:02:24.\n",
            "  Batch   640  of  2,194.    Elapsed: 0:02:33.\n",
            "  Batch   680  of  2,194.    Elapsed: 0:02:43.\n",
            "  Batch   720  of  2,194.    Elapsed: 0:02:52.\n",
            "  Batch   760  of  2,194.    Elapsed: 0:03:02.\n",
            "  Batch   800  of  2,194.    Elapsed: 0:03:11.\n",
            "  Batch   840  of  2,194.    Elapsed: 0:03:21.\n",
            "  Batch   880  of  2,194.    Elapsed: 0:03:30.\n",
            "  Batch   920  of  2,194.    Elapsed: 0:03:40.\n",
            "  Batch   960  of  2,194.    Elapsed: 0:03:49.\n",
            "  Batch 1,000  of  2,194.    Elapsed: 0:03:59.\n",
            "  Batch 1,040  of  2,194.    Elapsed: 0:04:09.\n",
            "  Batch 1,080  of  2,194.    Elapsed: 0:04:18.\n",
            "  Batch 1,120  of  2,194.    Elapsed: 0:04:28.\n",
            "  Batch 1,160  of  2,194.    Elapsed: 0:04:37.\n",
            "  Batch 1,200  of  2,194.    Elapsed: 0:04:47.\n",
            "  Batch 1,240  of  2,194.    Elapsed: 0:04:56.\n",
            "  Batch 1,280  of  2,194.    Elapsed: 0:05:06.\n",
            "  Batch 1,320  of  2,194.    Elapsed: 0:05:15.\n",
            "  Batch 1,360  of  2,194.    Elapsed: 0:05:25.\n",
            "  Batch 1,400  of  2,194.    Elapsed: 0:05:34.\n",
            "  Batch 1,440  of  2,194.    Elapsed: 0:05:44.\n",
            "  Batch 1,480  of  2,194.    Elapsed: 0:05:54.\n",
            "  Batch 1,520  of  2,194.    Elapsed: 0:06:03.\n",
            "  Batch 1,560  of  2,194.    Elapsed: 0:06:13.\n",
            "  Batch 1,600  of  2,194.    Elapsed: 0:06:22.\n",
            "  Batch 1,640  of  2,194.    Elapsed: 0:06:32.\n",
            "  Batch 1,680  of  2,194.    Elapsed: 0:06:41.\n",
            "  Batch 1,720  of  2,194.    Elapsed: 0:06:51.\n",
            "  Batch 1,760  of  2,194.    Elapsed: 0:07:00.\n",
            "  Batch 1,800  of  2,194.    Elapsed: 0:07:10.\n",
            "  Batch 1,840  of  2,194.    Elapsed: 0:07:19.\n",
            "  Batch 1,880  of  2,194.    Elapsed: 0:07:29.\n",
            "  Batch 1,920  of  2,194.    Elapsed: 0:07:38.\n",
            "  Batch 1,960  of  2,194.    Elapsed: 0:07:48.\n",
            "  Batch 2,000  of  2,194.    Elapsed: 0:07:57.\n",
            "  Batch 2,040  of  2,194.    Elapsed: 0:08:07.\n",
            "  Batch 2,080  of  2,194.    Elapsed: 0:08:16.\n",
            "  Batch 2,120  of  2,194.    Elapsed: 0:08:26.\n",
            "  Batch 2,160  of  2,194.    Elapsed: 0:08:35.\n",
            "\n",
            "  Average training loss: 0.08\n",
            "  Training epcoh took: 0:08:44\n",
            "\n",
            "Running Validation...\n",
            "  Accuracy: 0.85\n",
            "  Validation took: 0:00:16\n",
            "\n",
            "Training complete!\n"
          ],
          "name": "stdout"
        }
      ]
    },
    {
      "cell_type": "code",
      "metadata": {
        "id": "DpZhnU0wJ9D1",
        "colab_type": "code",
        "outputId": "1f67f9fe-21e3-4408-fbc4-6b69fa6837aa",
        "colab": {
          "base_uri": "https://localhost:8080/",
          "height": 427
        }
      },
      "source": [
        "import matplotlib.pyplot as plt\n",
        "% matplotlib inline\n",
        "\n",
        "import seaborn as sns\n",
        "\n",
        "sns.set(style='darkgrid')\n",
        "\n",
        "sns.set(font_scale=1.5)\n",
        "plt.rcParams[\"figure.figsize\"] = (12,6)\n",
        "\n",
        "plt.plot(loss_values, 'b-o')\n",
        "\n",
        "plt.title(\"Training loss\")\n",
        "plt.xlabel(\"Batch\")\n",
        "plt.ylabel(\"Loss\")\n",
        "\n",
        "plt.show()"
      ],
      "execution_count": 86,
      "outputs": [
        {
          "output_type": "display_data",
          "data": {
            "image/png": "[encoded data removed]",
            "text/plain": [
              "<Figure size 864x432 with 1 Axes>"
            ]
          },
          "metadata": {
            "tags": []
          }
        }
      ]
    },
    {
      "cell_type": "markdown",
      "metadata": {
        "id": "LcBqAmMW88WO",
        "colab_type": "text"
      },
      "source": [
        "## Ploting loss"
      ]
    },
    {
      "cell_type": "markdown",
      "metadata": {
        "id": "4sBd8-5WV5cc",
        "colab_type": "text"
      },
      "source": [
        "##EVALUATING ON TEST SET"
      ]
    },
    {
      "cell_type": "code",
      "metadata": {
        "id": "vVr9cZI8rwjv",
        "colab_type": "code",
        "outputId": "20b92b5d-d49d-4de3-e437-8732ab1de729",
        "colab": {
          "base_uri": "https://localhost:8080/",
          "height": 1000
        }
      },
      "source": [
        "model_t = BertForSequenceClassification.from_pretrained(\"bert-base-uncased\", num_labels=2)\n",
        "model_t.cuda()\n"
      ],
      "execution_count": 87,
      "outputs": [
        {
          "output_type": "execute_result",
          "data": {
            "text/plain": [
              "BertForSequenceClassification(\n",
              "  (bert): BertModel(\n",
              "    (embeddings): BertEmbeddings(\n",
              "      (word_embeddings): Embedding(30522, 768, padding_idx=0)\n",
              "      (position_embeddings): Embedding(512, 768)\n",
              "      (token_type_embeddings): Embedding(2, 768)\n",
              "      (LayerNorm): LayerNorm((768,), eps=1e-12, elementwise_affine=True)\n",
              "      (dropout): Dropout(p=0.1, inplace=False)\n",
              "    )\n",
              "    (encoder): BertEncoder(\n",
              "      (layer): ModuleList(\n",
              "        (0): BertLayer(\n",
              "          (attention): BertAttention(\n",
              "            (self): BertSelfAttention(\n",
              "              (query): Linear(in_features=768, out_features=768, bias=True)\n",
              "              (key): Linear(in_features=768, out_features=768, bias=True)\n",
              "              (value): Linear(in_features=768, out_features=768, bias=True)\n",
              "              (dropout): Dropout(p=0.1, inplace=False)\n",
              "            )\n",
              "            (output): BertSelfOutput(\n",
              "              (dense): Linear(in_features=768, out_features=768, bias=True)\n",
              "              (LayerNorm): LayerNorm((768,), eps=1e-12, elementwise_affine=True)\n",
              "              (dropout): Dropout(p=0.1, inplace=False)\n",
              "            )\n",
              "          )\n",
              "          (intermediate): BertIntermediate(\n",
              "            (dense): Linear(in_features=768, out_features=3072, bias=True)\n",
              "          )\n",
              "          (output): BertOutput(\n",
              "            (dense): Linear(in_features=3072, out_features=768, bias=True)\n",
              "            (LayerNorm): LayerNorm((768,), eps=1e-12, elementwise_affine=True)\n",
              "            (dropout): Dropout(p=0.1, inplace=False)\n",
              "          )\n",
              "        )\n",
              "        (1): BertLayer(\n",
              "          (attention): BertAttention(\n",
              "            (self): BertSelfAttention(\n",
              "              (query): Linear(in_features=768, out_features=768, bias=True)\n",
              "              (key): Linear(in_features=768, out_features=768, bias=True)\n",
              "              (value): Linear(in_features=768, out_features=768, bias=True)\n",
              "              (dropout): Dropout(p=0.1, inplace=False)\n",
              "            )\n",
              "            (output): BertSelfOutput(\n",
              "              (dense): Linear(in_features=768, out_features=768, bias=True)\n",
              "              (LayerNorm): LayerNorm((768,), eps=1e-12, elementwise_affine=True)\n",
              "              (dropout): Dropout(p=0.1, inplace=False)\n",
              "            )\n",
              "          )\n",
              "          (intermediate): BertIntermediate(\n",
              "            (dense): Linear(in_features=768, out_features=3072, bias=True)\n",
              "          )\n",
              "          (output): BertOutput(\n",
              "            (dense): Linear(in_features=3072, out_features=768, bias=True)\n",
              "            (LayerNorm): LayerNorm((768,), eps=1e-12, elementwise_affine=True)\n",
              "            (dropout): Dropout(p=0.1, inplace=False)\n",
              "          )\n",
              "        )\n",
              "        (2): BertLayer(\n",
              "          (attention): BertAttention(\n",
              "            (self): BertSelfAttention(\n",
              "              (query): Linear(in_features=768, out_features=768, bias=True)\n",
              "              (key): Linear(in_features=768, out_features=768, bias=True)\n",
              "              (value): Linear(in_features=768, out_features=768, bias=True)\n",
              "              (dropout): Dropout(p=0.1, inplace=False)\n",
              "            )\n",
              "            (output): BertSelfOutput(\n",
              "              (dense): Linear(in_features=768, out_features=768, bias=True)\n",
              "              (LayerNorm): LayerNorm((768,), eps=1e-12, elementwise_affine=True)\n",
              "              (dropout): Dropout(p=0.1, inplace=False)\n",
              "            )\n",
              "          )\n",
              "          (intermediate): BertIntermediate(\n",
              "            (dense): Linear(in_features=768, out_features=3072, bias=True)\n",
              "          )\n",
              "          (output): BertOutput(\n",
              "            (dense): Linear(in_features=3072, out_features=768, bias=True)\n",
              "            (LayerNorm): LayerNorm((768,), eps=1e-12, elementwise_affine=True)\n",
              "            (dropout): Dropout(p=0.1, inplace=False)\n",
              "          )\n",
              "        )\n",
              "        (3): BertLayer(\n",
              "          (attention): BertAttention(\n",
              "            (self): BertSelfAttention(\n",
              "              (query): Linear(in_features=768, out_features=768, bias=True)\n",
              "              (key): Linear(in_features=768, out_features=768, bias=True)\n",
              "              (value): Linear(in_features=768, out_features=768, bias=True)\n",
              "              (dropout): Dropout(p=0.1, inplace=False)\n",
              "            )\n",
              "            (output): BertSelfOutput(\n",
              "              (dense): Linear(in_features=768, out_features=768, bias=True)\n",
              "              (LayerNorm): LayerNorm((768,), eps=1e-12, elementwise_affine=True)\n",
              "              (dropout): Dropout(p=0.1, inplace=False)\n",
              "            )\n",
              "          )\n",
              "          (intermediate): BertIntermediate(\n",
              "            (dense): Linear(in_features=768, out_features=3072, bias=True)\n",
              "          )\n",
              "          (output): BertOutput(\n",
              "            (dense): Linear(in_features=3072, out_features=768, bias=True)\n",
              "            (LayerNorm): LayerNorm((768,), eps=1e-12, elementwise_affine=True)\n",
              "            (dropout): Dropout(p=0.1, inplace=False)\n",
              "          )\n",
              "        )\n",
              "        (4): BertLayer(\n",
              "          (attention): BertAttention(\n",
              "            (self): BertSelfAttention(\n",
              "              (query): Linear(in_features=768, out_features=768, bias=True)\n",
              "              (key): Linear(in_features=768, out_features=768, bias=True)\n",
              "              (value): Linear(in_features=768, out_features=768, bias=True)\n",
              "              (dropout): Dropout(p=0.1, inplace=False)\n",
              "            )\n",
              "            (output): BertSelfOutput(\n",
              "              (dense): Linear(in_features=768, out_features=768, bias=True)\n",
              "              (LayerNorm): LayerNorm((768,), eps=1e-12, elementwise_affine=True)\n",
              "              (dropout): Dropout(p=0.1, inplace=False)\n",
              "            )\n",
              "          )\n",
              "          (intermediate): BertIntermediate(\n",
              "            (dense): Linear(in_features=768, out_features=3072, bias=True)\n",
              "          )\n",
              "          (output): BertOutput(\n",
              "            (dense): Linear(in_features=3072, out_features=768, bias=True)\n",
              "            (LayerNorm): LayerNorm((768,), eps=1e-12, elementwise_affine=True)\n",
              "            (dropout): Dropout(p=0.1, inplace=False)\n",
              "          )\n",
              "        )\n",
              "        (5): BertLayer(\n",
              "          (attention): BertAttention(\n",
              "            (self): BertSelfAttention(\n",
              "              (query): Linear(in_features=768, out_features=768, bias=True)\n",
              "              (key): Linear(in_features=768, out_features=768, bias=True)\n",
              "              (value): Linear(in_features=768, out_features=768, bias=True)\n",
              "              (dropout): Dropout(p=0.1, inplace=False)\n",
              "            )\n",
              "            (output): BertSelfOutput(\n",
              "              (dense): Linear(in_features=768, out_features=768, bias=True)\n",
              "              (LayerNorm): LayerNorm((768,), eps=1e-12, elementwise_affine=True)\n",
              "              (dropout): Dropout(p=0.1, inplace=False)\n",
              "            )\n",
              "          )\n",
              "          (intermediate): BertIntermediate(\n",
              "            (dense): Linear(in_features=768, out_features=3072, bias=True)\n",
              "          )\n",
              "          (output): BertOutput(\n",
              "            (dense): Linear(in_features=3072, out_features=768, bias=True)\n",
              "            (LayerNorm): LayerNorm((768,), eps=1e-12, elementwise_affine=True)\n",
              "            (dropout): Dropout(p=0.1, inplace=False)\n",
              "          )\n",
              "        )\n",
              "        (6): BertLayer(\n",
              "          (attention): BertAttention(\n",
              "            (self): BertSelfAttention(\n",
              "              (query): Linear(in_features=768, out_features=768, bias=True)\n",
              "              (key): Linear(in_features=768, out_features=768, bias=True)\n",
              "              (value): Linear(in_features=768, out_features=768, bias=True)\n",
              "              (dropout): Dropout(p=0.1, inplace=False)\n",
              "            )\n",
              "            (output): BertSelfOutput(\n",
              "              (dense): Linear(in_features=768, out_features=768, bias=True)\n",
              "              (LayerNorm): LayerNorm((768,), eps=1e-12, elementwise_affine=True)\n",
              "              (dropout): Dropout(p=0.1, inplace=False)\n",
              "            )\n",
              "          )\n",
              "          (intermediate): BertIntermediate(\n",
              "            (dense): Linear(in_features=768, out_features=3072, bias=True)\n",
              "          )\n",
              "          (output): BertOutput(\n",
              "            (dense): Linear(in_features=3072, out_features=768, bias=True)\n",
              "            (LayerNorm): LayerNorm((768,), eps=1e-12, elementwise_affine=True)\n",
              "            (dropout): Dropout(p=0.1, inplace=False)\n",
              "          )\n",
              "        )\n",
              "        (7): BertLayer(\n",
              "          (attention): BertAttention(\n",
              "            (self): BertSelfAttention(\n",
              "              (query): Linear(in_features=768, out_features=768, bias=True)\n",
              "              (key): Linear(in_features=768, out_features=768, bias=True)\n",
              "              (value): Linear(in_features=768, out_features=768, bias=True)\n",
              "              (dropout): Dropout(p=0.1, inplace=False)\n",
              "            )\n",
              "            (output): BertSelfOutput(\n",
              "              (dense): Linear(in_features=768, out_features=768, bias=True)\n",
              "              (LayerNorm): LayerNorm((768,), eps=1e-12, elementwise_affine=True)\n",
              "              (dropout): Dropout(p=0.1, inplace=False)\n",
              "            )\n",
              "          )\n",
              "          (intermediate): BertIntermediate(\n",
              "            (dense): Linear(in_features=768, out_features=3072, bias=True)\n",
              "          )\n",
              "          (output): BertOutput(\n",
              "            (dense): Linear(in_features=3072, out_features=768, bias=True)\n",
              "            (LayerNorm): LayerNorm((768,), eps=1e-12, elementwise_affine=True)\n",
              "            (dropout): Dropout(p=0.1, inplace=False)\n",
              "          )\n",
              "        )\n",
              "        (8): BertLayer(\n",
              "          (attention): BertAttention(\n",
              "            (self): BertSelfAttention(\n",
              "              (query): Linear(in_features=768, out_features=768, bias=True)\n",
              "              (key): Linear(in_features=768, out_features=768, bias=True)\n",
              "              (value): Linear(in_features=768, out_features=768, bias=True)\n",
              "              (dropout): Dropout(p=0.1, inplace=False)\n",
              "            )\n",
              "            (output): BertSelfOutput(\n",
              "              (dense): Linear(in_features=768, out_features=768, bias=True)\n",
              "              (LayerNorm): LayerNorm((768,), eps=1e-12, elementwise_affine=True)\n",
              "              (dropout): Dropout(p=0.1, inplace=False)\n",
              "            )\n",
              "          )\n",
              "          (intermediate): BertIntermediate(\n",
              "            (dense): Linear(in_features=768, out_features=3072, bias=True)\n",
              "          )\n",
              "          (output): BertOutput(\n",
              "            (dense): Linear(in_features=3072, out_features=768, bias=True)\n",
              "            (LayerNorm): LayerNorm((768,), eps=1e-12, elementwise_affine=True)\n",
              "            (dropout): Dropout(p=0.1, inplace=False)\n",
              "          )\n",
              "        )\n",
              "        (9): BertLayer(\n",
              "          (attention): BertAttention(\n",
              "            (self): BertSelfAttention(\n",
              "              (query): Linear(in_features=768, out_features=768, bias=True)\n",
              "              (key): Linear(in_features=768, out_features=768, bias=True)\n",
              "              (value): Linear(in_features=768, out_features=768, bias=True)\n",
              "              (dropout): Dropout(p=0.1, inplace=False)\n",
              "            )\n",
              "            (output): BertSelfOutput(\n",
              "              (dense): Linear(in_features=768, out_features=768, bias=True)\n",
              "              (LayerNorm): LayerNorm((768,), eps=1e-12, elementwise_affine=True)\n",
              "              (dropout): Dropout(p=0.1, inplace=False)\n",
              "            )\n",
              "          )\n",
              "          (intermediate): BertIntermediate(\n",
              "            (dense): Linear(in_features=768, out_features=3072, bias=True)\n",
              "          )\n",
              "          (output): BertOutput(\n",
              "            (dense): Linear(in_features=3072, out_features=768, bias=True)\n",
              "            (LayerNorm): LayerNorm((768,), eps=1e-12, elementwise_affine=True)\n",
              "            (dropout): Dropout(p=0.1, inplace=False)\n",
              "          )\n",
              "        )\n",
              "        (10): BertLayer(\n",
              "          (attention): BertAttention(\n",
              "            (self): BertSelfAttention(\n",
              "              (query): Linear(in_features=768, out_features=768, bias=True)\n",
              "              (key): Linear(in_features=768, out_features=768, bias=True)\n",
              "              (value): Linear(in_features=768, out_features=768, bias=True)\n",
              "              (dropout): Dropout(p=0.1, inplace=False)\n",
              "            )\n",
              "            (output): BertSelfOutput(\n",
              "              (dense): Linear(in_features=768, out_features=768, bias=True)\n",
              "              (LayerNorm): LayerNorm((768,), eps=1e-12, elementwise_affine=True)\n",
              "              (dropout): Dropout(p=0.1, inplace=False)\n",
              "            )\n",
              "          )\n",
              "          (intermediate): BertIntermediate(\n",
              "            (dense): Linear(in_features=768, out_features=3072, bias=True)\n",
              "          )\n",
              "          (output): BertOutput(\n",
              "            (dense): Linear(in_features=3072, out_features=768, bias=True)\n",
              "            (LayerNorm): LayerNorm((768,), eps=1e-12, elementwise_affine=True)\n",
              "            (dropout): Dropout(p=0.1, inplace=False)\n",
              "          )\n",
              "        )\n",
              "        (11): BertLayer(\n",
              "          (attention): BertAttention(\n",
              "            (self): BertSelfAttention(\n",
              "              (query): Linear(in_features=768, out_features=768, bias=True)\n",
              "              (key): Linear(in_features=768, out_features=768, bias=True)\n",
              "              (value): Linear(in_features=768, out_features=768, bias=True)\n",
              "              (dropout): Dropout(p=0.1, inplace=False)\n",
              "            )\n",
              "            (output): BertSelfOutput(\n",
              "              (dense): Linear(in_features=768, out_features=768, bias=True)\n",
              "              (LayerNorm): LayerNorm((768,), eps=1e-12, elementwise_affine=True)\n",
              "              (dropout): Dropout(p=0.1, inplace=False)\n",
              "            )\n",
              "          )\n",
              "          (intermediate): BertIntermediate(\n",
              "            (dense): Linear(in_features=768, out_features=3072, bias=True)\n",
              "          )\n",
              "          (output): BertOutput(\n",
              "            (dense): Linear(in_features=3072, out_features=768, bias=True)\n",
              "            (LayerNorm): LayerNorm((768,), eps=1e-12, elementwise_affine=True)\n",
              "            (dropout): Dropout(p=0.1, inplace=False)\n",
              "          )\n",
              "        )\n",
              "      )\n",
              "    )\n",
              "    (pooler): BertPooler(\n",
              "      (dense): Linear(in_features=768, out_features=768, bias=True)\n",
              "      (activation): Tanh()\n",
              "    )\n",
              "  )\n",
              "  (dropout): Dropout(p=0.1, inplace=False)\n",
              "  (classifier): Linear(in_features=768, out_features=2, bias=True)\n",
              ")"
            ]
          },
          "metadata": {
            "tags": []
          },
          "execution_count": 87
        }
      ]
    },
    {
      "cell_type": "markdown",
      "metadata": {
        "id": "-ipX_wpeOv9H",
        "colab_type": "text"
      },
      "source": [
        ""
      ]
    },
    {
      "cell_type": "code",
      "metadata": {
        "id": "BgXs6bZEOgSS",
        "colab_type": "code",
        "colab": {}
      },
      "source": [
        "# loading saved model\n",
        "\n",
        "import torch\n",
        "model2=torch.load(\"models/sent_bert1.pth\")"
      ],
      "execution_count": 0,
      "outputs": []
    },
    {
      "cell_type": "code",
      "metadata": {
        "id": "XqCQSjpUQk6C",
        "colab_type": "code",
        "colab": {}
      },
      "source": [
        "#df_n.drop(['Unnamed: 0','index'],axis=1,inplace=True)\n",
        "sent1=df_n.question1.values\n",
        "sent2=df_n.question2.values\n",
        "labels=df_n.is_duplicate.values\n",
        "\n",
        "input_ids = []\n",
        "\n",
        "tokenize_text=[]\n",
        "for i in range(len(sent1)):\n",
        "\n",
        "    encoded_sent = tokenizer.encode(\n",
        "                        sent1[i],\n",
        "                        sent2[i],                     \n",
        "                        add_special_tokens = True, \n",
        "                        max_length=128\n",
        "            \n",
        "                   )\n",
        "    input_ids.append(encoded_sent)\n",
        "\n",
        "\n",
        "from keras.preprocessing.sequence import pad_sequences\n",
        "MAX_LEN = 256\n",
        "input_ids = pad_sequences(input_ids, maxlen=MAX_LEN, dtype=\"long\", \n",
        "                          value=0, truncating=\"post\", padding=\"post\")\n",
        "\n",
        "\n",
        "attention_masks = []\n",
        "for sent in input_ids:\n",
        "    att_mask = [int(token_id > 0) for token_id in sent]\n",
        "    attention_masks.append(att_mask)\n"
      ],
      "execution_count": 0,
      "outputs": []
    },
    {
      "cell_type": "code",
      "metadata": {
        "id": "kT_liVptPoCz",
        "colab_type": "code",
        "colab": {}
      },
      "source": [
        "from torch.utils.data import TensorDataset, DataLoader, RandomSampler, SequentialSampler\n",
        "\n",
        "test_inputs = torch.tensor(input_ids)\n",
        "test_labels = torch.tensor(labels)\n",
        "test_masks = torch.tensor(attention_masks)\n",
        "\n",
        "batch_size = 16\n",
        "\n",
        "test_data = TensorDataset(test_inputs, test_masks, test_labels)\n",
        "test_sampler = RandomSampler(test_data)\n",
        "test_dataloader = DataLoader(test_data, sampler=test_sampler, batch_size=batch_size)"
      ],
      "execution_count": 0,
      "outputs": []
    },
    {
      "cell_type": "code",
      "metadata": {
        "id": "nSSXfnpSrjLq",
        "colab_type": "code",
        "outputId": "e7f8f157-7fe2-42ed-befc-e3e8cccfe2a2",
        "colab": {
          "base_uri": "https://localhost:8080/",
          "height": 35
        }
      },
      "source": [
        "model_t.load_state_dict(model2)"
      ],
      "execution_count": 91,
      "outputs": [
        {
          "output_type": "execute_result",
          "data": {
            "text/plain": [
              "<All keys matched successfully>"
            ]
          },
          "metadata": {
            "tags": []
          },
          "execution_count": 91
        }
      ]
    },
    {
      "cell_type": "code",
      "metadata": {
        "id": "oIh_SqEAqTVi",
        "colab_type": "code",
        "outputId": "e253dd16-7c95-4bcc-ad3a-e2509ff96b06",
        "colab": {
          "base_uri": "https://localhost:8080/",
          "height": 35
        }
      },
      "source": [
        "model_t.eval()\n",
        " \n",
        "predictions , true_labels = [], []\n",
        "\n",
        "for batch in test_dataloader:\n",
        "  batch = tuple(t.to(device) for t in batch)\n",
        "\n",
        "  b_input_ids, b_input_mask, b_labels = batch\n",
        "\n",
        "  with torch.no_grad():\n",
        "      outputs = model(b_input_ids, token_type_ids=None, \n",
        "                      attention_mask=b_input_mask)\n",
        "\n",
        "  logits = outputs[0]\n",
        "\n",
        "  logits = logits.detach().cpu().numpy()\n",
        "  label_ids = b_labels.to('cpu').numpy()\n",
        "\n",
        "  predictions.append(logits)\n",
        "  true_labels.append(label_ids)\n",
        "\n",
        "print('    DONE.')"
      ],
      "execution_count": 93,
      "outputs": [
        {
          "output_type": "stream",
          "text": [
            "    DONE.\n"
          ],
          "name": "stdout"
        }
      ]
    },
    {
      "cell_type": "code",
      "metadata": {
        "id": "2egYjgUosTkx",
        "colab_type": "code",
        "colab": {}
      },
      "source": [
        "pred1=predictions"
      ],
      "execution_count": 0,
      "outputs": []
    },
    {
      "cell_type": "code",
      "metadata": {
        "id": "ygsTJaJtGcUm",
        "colab_type": "code",
        "colab": {}
      },
      "source": [
        "pred2=[]\n",
        "for i in range(len(true_labels)):\n",
        "  pred= np.argmax(pred1[i], axis=1).flatten()\n",
        "  pred2=pred2+pred.tolist()"
      ],
      "execution_count": 0,
      "outputs": []
    },
    {
      "cell_type": "code",
      "metadata": {
        "id": "lQccX8ZSstDF",
        "colab_type": "code",
        "outputId": "4397f99e-e3d3-4d2e-94fe-1b2e306d020a",
        "colab": {
          "base_uri": "https://localhost:8080/",
          "height": 35
        }
      },
      "source": [
        "pred2=np.asarray(pred2)\n",
        "true_labels[1]"
      ],
      "execution_count": 96,
      "outputs": [
        {
          "output_type": "execute_result",
          "data": {
            "text/plain": [
              "array([0, 0, 0, 1, 1, 0, 0, 0, 1, 1, 1, 1, 0, 0, 0, 0])"
            ]
          },
          "metadata": {
            "tags": []
          },
          "execution_count": 96
        }
      ]
    },
    {
      "cell_type": "code",
      "metadata": {
        "id": "PnmT2J_Ss0fq",
        "colab_type": "code",
        "colab": {}
      },
      "source": [
        "t3=[]\n",
        "for i in range(len(true_labels)):\n",
        "  t2= true_labels[i]\n",
        "  t3=t3+t2.tolist()"
      ],
      "execution_count": 0,
      "outputs": []
    },
    {
      "cell_type": "code",
      "metadata": {
        "id": "E3mqe_SOs3gN",
        "colab_type": "code",
        "outputId": "8957f635-faca-46be-ea29-1cdd43d953be",
        "colab": {
          "base_uri": "https://localhost:8080/",
          "height": 90
        }
      },
      "source": [
        "from sklearn.metrics import accuracy_score,f1_score,recall_score,precision_score \n",
        "acc=accuracy_score(pred2,t3)\n",
        "f1=f1_score(pred2,t3)\n",
        "precision=precision_score(pred2,t3)\n",
        "recall=recall_score(pred2,t3)\n",
        "print(\" accuracy={} \\n f1={} \\n precision={} \\n recall={}\".format(acc,f1,precision,recall))"
      ],
      "execution_count": 98,
      "outputs": [
        {
          "output_type": "stream",
          "text": [
            " accuracy=0.8763 \n",
            " f1=0.8364405659129974 \n",
            " precision=0.8623227917121047 \n",
            " recall=0.8120667522464698\n"
          ],
          "name": "stdout"
        }
      ]
    },
    {
      "cell_type": "code",
      "metadata": {
        "id": "nACpRf65tAI4",
        "colab_type": "code",
        "colab": {}
      },
      "source": [
        ""
      ],
      "execution_count": 0,
      "outputs": []
    }
  ]
}